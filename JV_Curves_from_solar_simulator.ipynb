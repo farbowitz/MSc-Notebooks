{
  "nbformat": 4,
  "nbformat_minor": 0,
  "metadata": {
    "colab": {
      "name": "JV Curves from solar simulator.ipynb",
      "provenance": [],
      "collapsed_sections": []
    },
    "kernelspec": {
      "name": "python3",
      "display_name": "Python 3"
    }
  },
  "cells": [
    {
      "cell_type": "markdown",
      "metadata": {
        "id": "az2RlKUOQl5t"
      },
      "source": [
        ""
      ]
    },
    {
      "cell_type": "code",
      "metadata": {
        "id": "SSrggvoCOoZP"
      },
      "source": [
        "#introducing libraries\n",
        "!pip install numpy scipy pandas>1.0 matplotlib"
      ],
      "execution_count": null,
      "outputs": []
    },
    {
      "cell_type": "code",
      "metadata": {
        "id": "35GTZOKnQIWl"
      },
      "source": [
        "#calling up libraries\n",
        "from datetime import datetime\n",
        "import pandas as pd\n",
        "import numpy as np\n",
        "import scipy\n",
        "import scipy.integrate as integrate\n",
        "from scipy.integrate import quad\n",
        "import matplotlib.pyplot as plt\n",
        "from scipy.interpolate import interp1d"
      ],
      "execution_count": null,
      "outputs": []
    },
    {
      "cell_type": "code",
      "metadata": {
        "id": "_yBFoxrfQjn9"
      },
      "source": [
        "#import CSV data from \n",
        "URL_Sample = \"https://raw.githubusercontent.com/farbowitz/PHY6000/main/c-si%2025degc%20oriel%201000w_m2.csv\"\n",
        "URL_1suns = \"https://raw.githubusercontent.com/farbowitz/PHY6011/main/20-11-17_14-26-32%201.0suns%20Current-Voltage%20Data.csv\" \n",
        "URL_8suns = \"https://raw.githubusercontent.com/farbowitz/PHY6011/main/20-11-17_14-40-27%200.8suns%20Current-Voltage%20Data.csv\"\n",
        "URL_IRR = \"https://raw.githubusercontent.com/farbowitz/PHY6011/main/1sun%20spectrum.txt\"\n",
        "URL_CALIB = \"https://raw.githubusercontent.com/farbowitz/PHY6000/main/FLMS02587_ccda_20180716_1441.IRRADCAL.csv\"\n",
        "AvsVdata = pd.read_csv(\"https://raw.githubusercontent.com/farbowitz/PHY6011/main/20-11-17_15-25-41%20red-2%20Current-Voltage%20Data.csv\", sep = ',' , header = 2)\n",
        "irr_spec = pd.read_csv(URL_IRR, sep = '\\t' , header = 12)    \n",
        "calib_spec = pd.read_csv(URL_CALIB, sep=',', header = 0)\n",
        "blue_spec = pd.read_csv(\"https://raw.githubusercontent.com/farbowitz/PHY6011/main/blue.txt\", sep = '\\t' , header = 12)\n",
        "\n",
        "red_spec = pd.read_csv(\"https://raw.githubusercontent.com/farbowitz/PHY6011/main/red.txt\", sep = '\\t' , header = 12)\n",
        "cellarea = 5.02e-6\n",
        "timems = float(list(pd.read_csv(URL_IRR, sep = ':' , header = 5))[1])/2\n",
        "#matching WL data\n",
        "calib_spec['Wavelength(nm)'] = np.round_(calib_spec['Wavelength(nm)'], 3)"
      ],
      "execution_count": null,
      "outputs": []
    },
    {
      "cell_type": "code",
      "metadata": {
        "id": "rhK8yrUpdWZH",
        "colab": {
          "base_uri": "https://localhost:8080/"
        },
        "outputId": "7e36c5d9-f07c-4f2d-9a96-e19bf9bb8e9b"
      },
      "source": [
        "#Merge and compute\n",
        "spec_data = calib_spec.merge(irr_spec, how = 'left')\n",
        "spec_data['Spectral Power(W/nm)'] = spec_data[' Counts']*spec_data[' uJoule/count']*1e-6/timems\n",
        "spec_data['Spectral Irradiance (W/m^2/nm)'] = spec_data['Spectral Power(W/nm)']/(4.0035e-5)\n",
        "irrad = np.asarray(calib_spec[' uJoule/count'])*np.asarray(irr_spec[' Counts'])*1e-6/timems\n",
        "rsum = 0\n",
        "for i in range(2047):\n",
        "  rsum += (irrad[i]/(4e-5))*(np.asarray(calib_spec['Wavelength(nm)'])[i+1] - np.asarray(calib_spec['Wavelength(nm)'])[i])\n",
        "  i += 1\n",
        "rsum"
      ],
      "execution_count": null,
      "outputs": [
        {
          "output_type": "execute_result",
          "data": {
            "text/plain": [
              "85.51991740037654"
            ]
          },
          "metadata": {
            "tags": []
          },
          "execution_count": 14
        }
      ]
    },
    {
      "cell_type": "code",
      "metadata": {
        "colab": {
          "base_uri": "https://localhost:8080/"
        },
        "id": "IWYafAoGzJ-s",
        "outputId": "4de71e2a-fcde-4252-a376-c46829e9e178"
      },
      "source": [
        "x=[]\n",
        "for i in range(35):\n",
        "  x.append(float(np.asarray(AvsVdata['V'][0:35])[i]))\n",
        "x"
      ],
      "execution_count": null,
      "outputs": [
        {
          "output_type": "execute_result",
          "data": {
            "text/plain": [
              "[-0.10128,\n",
              " -0.081358,\n",
              " -0.061262,\n",
              " -0.041247,\n",
              " -0.021062,\n",
              " -0.0010045,\n",
              " 0.019176,\n",
              " 0.038844,\n",
              " 0.058974,\n",
              " 0.078947,\n",
              " 0.09903,\n",
              " 0.11904,\n",
              " 0.13908,\n",
              " 0.15914,\n",
              " 0.17915,\n",
              " 0.19928,\n",
              " 0.21899,\n",
              " 0.23907,\n",
              " 0.25902,\n",
              " 0.2792,\n",
              " 0.29916,\n",
              " 0.31932,\n",
              " 0.33928,\n",
              " 0.35942,\n",
              " 0.37934,\n",
              " 0.39907,\n",
              " 0.41904,\n",
              " 0.43911,\n",
              " 0.4591,\n",
              " 0.47911,\n",
              " 0.49911,\n",
              " 0.51905,\n",
              " 0.53903,\n",
              " 0.55886,\n",
              " 0.5785]"
            ]
          },
          "metadata": {
            "tags": []
          },
          "execution_count": 35
        }
      ]
    },
    {
      "cell_type": "code",
      "metadata": {
        "id": "ZnXadluPdvOQ",
        "colab": {
          "base_uri": "https://localhost:8080/",
          "height": 656
        },
        "outputId": "f541860b-e12d-43c9-e14d-d95e1ce7ca3f"
      },
      "source": [
        "bigdf = pd.DataFrame(columns = ['Experiment Type','Irradiance', 'Jsc', 'Voc', 'Pmax', 'FF', 'PCE'])\n",
        "def get_vals(input_data, spectrum):\n",
        "  x=[]\n",
        "  y=[]\n",
        "  for i in range(35):\n",
        "    #converts into 1D array by column number\n",
        "    x.append(float(np.asarray(input_data[list(input_data)[0]][0:35])[i]))\n",
        "    #changing mA/cm^2 to A/m^2\n",
        "    y.append(10*float(np.asarray(input_data[list(input_data)[1]][0:35])[i]))\n",
        "  plt.scatter(x, y)\n",
        "  #creates spline cubic interpolation function\n",
        "  f = interp1d(x, y, 'cubic')\n",
        "  #get zeroes from interpolation \n",
        "  Jsc = float(f(0))\n",
        "  Voc = float(scipy.interpolate.InterpolatedUnivariateSpline(x, y).roots())\n",
        "  #plot x*y vs x to get P vs V\n",
        "  PvsVdata = pd.DataFrame(np.stack((np.asarray(x), np.asarray(x)*np.asarray(y)), axis =-1), columns=('Voltage(V)', 'Power(W)'))\n",
        "  PvsVdata.plot.scatter(x=0, y=1)\n",
        "  #other relevant quantities\n",
        "  Pmax = min(PvsVdata['Power(W)'])\n",
        "  FF = Pmax /(Jsc*Voc)\n",
        "  #Irradiance from spectral data\n",
        "  Ispec = (np.asarray(calib_spec[' uJoule/count'])*np.asarray(spectrum[list(spectrum)[0]])).sum()*1e-6/(timems*4.00393e-5)\n",
        "  PCE = -Pmax / (Ispec*cellarea)\n",
        "  return 'Data', Ispec, Jsc, Voc, Pmax, FF , PCE\n",
        "get_vals(AvsVdata, red_spec)"
      ],
      "execution_count": null,
      "outputs": [
        {
          "output_type": "execute_result",
          "data": {
            "text/plain": [
              "('Data',\n",
              " 129.02634946365194,\n",
              " -5.75475879742896,\n",
              " 0.4845282743700664,\n",
              " -2.169515982071713,\n",
              " 0.7780662960442538,\n",
              " 3349.505742177166)"
            ]
          },
          "metadata": {
            "tags": []
          },
          "execution_count": 60
        },
        {
          "output_type": "display_data",
          "data": {
            "image/png": "[encoded data removed]",
            "text/plain": [
              "<Figure size 432x288 with 1 Axes>"
            ]
          },
          "metadata": {
            "tags": [],
            "needs_background": "light"
          }
        },
        {
          "output_type": "display_data",
          "data": {
            "image/png": "[encoded data removed]",
            "text/plain": [
              "<Figure size 432x288 with 1 Axes>"
            ]
          },
          "metadata": {
            "tags": [],
            "needs_background": "light"
          }
        }
      ]
    },
    {
      "cell_type": "code",
      "metadata": {
        "id": "t4mDhosWVp64",
        "colab": {
          "base_uri": "https://localhost:8080/",
          "height": 603
        },
        "outputId": "a04fe4e7-fafa-4778-fa7f-db079955d13e"
      },
      "source": [
        ""
      ],
      "execution_count": null,
      "outputs": [
        {
          "output_type": "error",
          "ename": "KeyError",
          "evalue": "ignored",
          "traceback": [
            "\u001b[0;31m---------------------------------------------------------------------------\u001b[0m",
            "\u001b[0;31mKeyError\u001b[0m                                  Traceback (most recent call last)",
            "\u001b[0;32m/usr/local/lib/python3.6/dist-packages/pandas/core/indexes/base.py\u001b[0m in \u001b[0;36mget_loc\u001b[0;34m(self, key, method, tolerance)\u001b[0m\n\u001b[1;32m   2894\u001b[0m             \u001b[0;32mtry\u001b[0m\u001b[0;34m:\u001b[0m\u001b[0;34m\u001b[0m\u001b[0;34m\u001b[0m\u001b[0m\n\u001b[0;32m-> 2895\u001b[0;31m                 \u001b[0;32mreturn\u001b[0m \u001b[0mself\u001b[0m\u001b[0;34m.\u001b[0m\u001b[0m_engine\u001b[0m\u001b[0;34m.\u001b[0m\u001b[0mget_loc\u001b[0m\u001b[0;34m(\u001b[0m\u001b[0mcasted_key\u001b[0m\u001b[0;34m)\u001b[0m\u001b[0;34m\u001b[0m\u001b[0;34m\u001b[0m\u001b[0m\n\u001b[0m\u001b[1;32m   2896\u001b[0m             \u001b[0;32mexcept\u001b[0m \u001b[0mKeyError\u001b[0m \u001b[0;32mas\u001b[0m \u001b[0merr\u001b[0m\u001b[0;34m:\u001b[0m\u001b[0;34m\u001b[0m\u001b[0;34m\u001b[0m\u001b[0m\n",
            "\u001b[0;32mpandas/_libs/index.pyx\u001b[0m in \u001b[0;36mpandas._libs.index.IndexEngine.get_loc\u001b[0;34m()\u001b[0m\n",
            "\u001b[0;32mpandas/_libs/index.pyx\u001b[0m in \u001b[0;36mpandas._libs.index.IndexEngine.get_loc\u001b[0;34m()\u001b[0m\n",
            "\u001b[0;32mpandas/_libs/hashtable_class_helper.pxi\u001b[0m in \u001b[0;36mpandas._libs.hashtable.PyObjectHashTable.get_item\u001b[0;34m()\u001b[0m\n",
            "\u001b[0;32mpandas/_libs/hashtable_class_helper.pxi\u001b[0m in \u001b[0;36mpandas._libs.hashtable.PyObjectHashTable.get_item\u001b[0;34m()\u001b[0m\n",
            "\u001b[0;31mKeyError\u001b[0m: 0",
            "\nThe above exception was the direct cause of the following exception:\n",
            "\u001b[0;31mKeyError\u001b[0m                                  Traceback (most recent call last)",
            "\u001b[0;32m<ipython-input-9-c0a08bc0e689>\u001b[0m in \u001b[0;36m<module>\u001b[0;34m()\u001b[0m\n\u001b[0;32m----> 1\u001b[0;31m \u001b[0mcalib_spec\u001b[0m\u001b[0;34m[\u001b[0m\u001b[0;36m0\u001b[0m\u001b[0;34m]\u001b[0m \u001b[0;34m=\u001b[0m \u001b[0mround\u001b[0m\u001b[0;34m(\u001b[0m\u001b[0mcalib_spec\u001b[0m\u001b[0;34m[\u001b[0m\u001b[0;36m0\u001b[0m\u001b[0;34m]\u001b[0m\u001b[0;34m,\u001b[0m \u001b[0;36m3\u001b[0m\u001b[0;34m)\u001b[0m\u001b[0;34m\u001b[0m\u001b[0;34m\u001b[0m\u001b[0m\n\u001b[0m",
            "\u001b[0;32m/usr/local/lib/python3.6/dist-packages/pandas/core/frame.py\u001b[0m in \u001b[0;36m__getitem__\u001b[0;34m(self, key)\u001b[0m\n\u001b[1;32m   2904\u001b[0m             \u001b[0;32mif\u001b[0m \u001b[0mself\u001b[0m\u001b[0;34m.\u001b[0m\u001b[0mcolumns\u001b[0m\u001b[0;34m.\u001b[0m\u001b[0mnlevels\u001b[0m \u001b[0;34m>\u001b[0m \u001b[0;36m1\u001b[0m\u001b[0;34m:\u001b[0m\u001b[0;34m\u001b[0m\u001b[0;34m\u001b[0m\u001b[0m\n\u001b[1;32m   2905\u001b[0m                 \u001b[0;32mreturn\u001b[0m \u001b[0mself\u001b[0m\u001b[0;34m.\u001b[0m\u001b[0m_getitem_multilevel\u001b[0m\u001b[0;34m(\u001b[0m\u001b[0mkey\u001b[0m\u001b[0;34m)\u001b[0m\u001b[0;34m\u001b[0m\u001b[0;34m\u001b[0m\u001b[0m\n\u001b[0;32m-> 2906\u001b[0;31m             \u001b[0mindexer\u001b[0m \u001b[0;34m=\u001b[0m \u001b[0mself\u001b[0m\u001b[0;34m.\u001b[0m\u001b[0mcolumns\u001b[0m\u001b[0;34m.\u001b[0m\u001b[0mget_loc\u001b[0m\u001b[0;34m(\u001b[0m\u001b[0mkey\u001b[0m\u001b[0;34m)\u001b[0m\u001b[0;34m\u001b[0m\u001b[0;34m\u001b[0m\u001b[0m\n\u001b[0m\u001b[1;32m   2907\u001b[0m             \u001b[0;32mif\u001b[0m \u001b[0mis_integer\u001b[0m\u001b[0;34m(\u001b[0m\u001b[0mindexer\u001b[0m\u001b[0;34m)\u001b[0m\u001b[0;34m:\u001b[0m\u001b[0;34m\u001b[0m\u001b[0;34m\u001b[0m\u001b[0m\n\u001b[1;32m   2908\u001b[0m                 \u001b[0mindexer\u001b[0m \u001b[0;34m=\u001b[0m \u001b[0;34m[\u001b[0m\u001b[0mindexer\u001b[0m\u001b[0;34m]\u001b[0m\u001b[0;34m\u001b[0m\u001b[0;34m\u001b[0m\u001b[0m\n",
            "\u001b[0;32m/usr/local/lib/python3.6/dist-packages/pandas/core/indexes/base.py\u001b[0m in \u001b[0;36mget_loc\u001b[0;34m(self, key, method, tolerance)\u001b[0m\n\u001b[1;32m   2895\u001b[0m                 \u001b[0;32mreturn\u001b[0m \u001b[0mself\u001b[0m\u001b[0;34m.\u001b[0m\u001b[0m_engine\u001b[0m\u001b[0;34m.\u001b[0m\u001b[0mget_loc\u001b[0m\u001b[0;34m(\u001b[0m\u001b[0mcasted_key\u001b[0m\u001b[0;34m)\u001b[0m\u001b[0;34m\u001b[0m\u001b[0;34m\u001b[0m\u001b[0m\n\u001b[1;32m   2896\u001b[0m             \u001b[0;32mexcept\u001b[0m \u001b[0mKeyError\u001b[0m \u001b[0;32mas\u001b[0m \u001b[0merr\u001b[0m\u001b[0;34m:\u001b[0m\u001b[0;34m\u001b[0m\u001b[0;34m\u001b[0m\u001b[0m\n\u001b[0;32m-> 2897\u001b[0;31m                 \u001b[0;32mraise\u001b[0m \u001b[0mKeyError\u001b[0m\u001b[0;34m(\u001b[0m\u001b[0mkey\u001b[0m\u001b[0;34m)\u001b[0m \u001b[0;32mfrom\u001b[0m \u001b[0merr\u001b[0m\u001b[0;34m\u001b[0m\u001b[0;34m\u001b[0m\u001b[0m\n\u001b[0m\u001b[1;32m   2898\u001b[0m \u001b[0;34m\u001b[0m\u001b[0m\n\u001b[1;32m   2899\u001b[0m         \u001b[0;32mif\u001b[0m \u001b[0mtolerance\u001b[0m \u001b[0;32mis\u001b[0m \u001b[0;32mnot\u001b[0m \u001b[0;32mNone\u001b[0m\u001b[0;34m:\u001b[0m\u001b[0;34m\u001b[0m\u001b[0;34m\u001b[0m\u001b[0m\n",
            "\u001b[0;31mKeyError\u001b[0m: 0"
          ]
        }
      ]
    },
    {
      "cell_type": "code",
      "metadata": {
        "id": "mzvJJ92ee-6S",
        "colab": {
          "base_uri": "https://localhost:8080/",
          "height": 424
        },
        "outputId": "42079666-7313-4152-a1b2-2b7d274d27b1"
      },
      "source": [
        "def interpolate_cal(input_spectrum):\n",
        "  #converts into 1D array by column number\n",
        "  x = np.asarray(input_spectrum[list(input_spectrum)[0]])\n",
        "  y = np.asarray(input_spectrum[list(input_spectrum)[1]])\n",
        "  #creates spline cubic interpolation function\n",
        "  f = interp1d(x, y, 'cubic')\n",
        "  #creates new integer-valued wls \n",
        "  int_x = np.linspace(int(np.floor(np.min(x))+1), int(np.floor(np.max(x))), int(np.floor(np.max(x))-np.floor(np.min(x))))\n",
        "  #apply interpolation\n",
        "  int_y = f(int_x)\n",
        "  df = pd.DataFrame(np.stack((int_x, int_y), axis =-1))\n",
        "  return df\n",
        "#build \n",
        "irr_int = interpolate_cal(irr_spec)\n",
        "irr_int.columns = ['Wavelength(nm)', 'Counts']\n",
        "cal_int = interpolate_cal(calib_spec)\n",
        "cal_int.columns = ['Wavelength(nm)', 'uJoule/count']\n",
        "spec_data = irr_int.merge(cal_int, how='left')\n",
        "spec_data"
      ],
      "execution_count": null,
      "outputs": [
        {
          "output_type": "execute_result",
          "data": {
            "text/html": [
              "<div>\n",
              "<style scoped>\n",
              "    .dataframe tbody tr th:only-of-type {\n",
              "        vertical-align: middle;\n",
              "    }\n",
              "\n",
              "    .dataframe tbody tr th {\n",
              "        vertical-align: top;\n",
              "    }\n",
              "\n",
              "    .dataframe thead th {\n",
              "        text-align: right;\n",
              "    }\n",
              "</style>\n",
              "<table border=\"1\" class=\"dataframe\">\n",
              "  <thead>\n",
              "    <tr style=\"text-align: right;\">\n",
              "      <th></th>\n",
              "      <th>Wavelength(nm)</th>\n",
              "      <th>Counts</th>\n",
              "      <th>uJoule/count</th>\n",
              "    </tr>\n",
              "  </thead>\n",
              "  <tbody>\n",
              "    <tr>\n",
              "      <th>0</th>\n",
              "      <td>340.0</td>\n",
              "      <td>-50.730000</td>\n",
              "      <td>-1.292470e-26</td>\n",
              "    </tr>\n",
              "    <tr>\n",
              "      <th>1</th>\n",
              "      <td>341.0</td>\n",
              "      <td>-73.757627</td>\n",
              "      <td>2.488809e-09</td>\n",
              "    </tr>\n",
              "    <tr>\n",
              "      <th>2</th>\n",
              "      <td>342.0</td>\n",
              "      <td>-36.996443</td>\n",
              "      <td>-6.477047e-08</td>\n",
              "    </tr>\n",
              "    <tr>\n",
              "      <th>3</th>\n",
              "      <td>343.0</td>\n",
              "      <td>-77.979299</td>\n",
              "      <td>-1.022639e-06</td>\n",
              "    </tr>\n",
              "    <tr>\n",
              "      <th>4</th>\n",
              "      <td>344.0</td>\n",
              "      <td>-46.290978</td>\n",
              "      <td>8.783241e-05</td>\n",
              "    </tr>\n",
              "    <tr>\n",
              "      <th>...</th>\n",
              "      <td>...</td>\n",
              "      <td>...</td>\n",
              "      <td>...</td>\n",
              "    </tr>\n",
              "    <tr>\n",
              "      <th>677</th>\n",
              "      <td>1017.0</td>\n",
              "      <td>511.338466</td>\n",
              "      <td>4.476179e-03</td>\n",
              "    </tr>\n",
              "    <tr>\n",
              "      <th>678</th>\n",
              "      <td>1018.0</td>\n",
              "      <td>485.269099</td>\n",
              "      <td>4.630291e-03</td>\n",
              "    </tr>\n",
              "    <tr>\n",
              "      <th>679</th>\n",
              "      <td>1019.0</td>\n",
              "      <td>579.335788</td>\n",
              "      <td>4.737873e-03</td>\n",
              "    </tr>\n",
              "    <tr>\n",
              "      <th>680</th>\n",
              "      <td>1020.0</td>\n",
              "      <td>528.776415</td>\n",
              "      <td>4.762076e-03</td>\n",
              "    </tr>\n",
              "    <tr>\n",
              "      <th>681</th>\n",
              "      <td>1021.0</td>\n",
              "      <td>471.948408</td>\n",
              "      <td>5.000391e-03</td>\n",
              "    </tr>\n",
              "  </tbody>\n",
              "</table>\n",
              "<p>682 rows × 3 columns</p>\n",
              "</div>"
            ],
            "text/plain": [
              "     Wavelength(nm)      Counts  uJoule/count\n",
              "0             340.0  -50.730000 -1.292470e-26\n",
              "1             341.0  -73.757627  2.488809e-09\n",
              "2             342.0  -36.996443 -6.477047e-08\n",
              "3             343.0  -77.979299 -1.022639e-06\n",
              "4             344.0  -46.290978  8.783241e-05\n",
              "..              ...         ...           ...\n",
              "677          1017.0  511.338466  4.476179e-03\n",
              "678          1018.0  485.269099  4.630291e-03\n",
              "679          1019.0  579.335788  4.737873e-03\n",
              "680          1020.0  528.776415  4.762076e-03\n",
              "681          1021.0  471.948408  5.000391e-03\n",
              "\n",
              "[682 rows x 3 columns]"
            ]
          },
          "metadata": {
            "tags": []
          },
          "execution_count": 18
        }
      ]
    },
    {
      "cell_type": "code",
      "metadata": {
        "id": "IjrHu98PipaX",
        "colab": {
          "base_uri": "https://localhost:8080/",
          "height": 424
        },
        "outputId": "0d780574-ec7f-413e-96e7-715001c1b68f"
      },
      "source": [
        "#constructing other values\n",
        "spec_data['Spectral Power (W/nm)'] = spec_data['Counts']*spec_data['uJoule/count']*1e-6/timems\n",
        "spec_data['Spectral Irradiance (W/m^2/nm)'] = spec_data['Spectral Power (W/nm)']/(4.00393e-5)\n",
        "spec_data"
      ],
      "execution_count": null,
      "outputs": [
        {
          "output_type": "execute_result",
          "data": {
            "text/html": [
              "<div>\n",
              "<style scoped>\n",
              "    .dataframe tbody tr th:only-of-type {\n",
              "        vertical-align: middle;\n",
              "    }\n",
              "\n",
              "    .dataframe tbody tr th {\n",
              "        vertical-align: top;\n",
              "    }\n",
              "\n",
              "    .dataframe thead th {\n",
              "        text-align: right;\n",
              "    }\n",
              "</style>\n",
              "<table border=\"1\" class=\"dataframe\">\n",
              "  <thead>\n",
              "    <tr style=\"text-align: right;\">\n",
              "      <th></th>\n",
              "      <th>Wavelength(nm)</th>\n",
              "      <th>Counts</th>\n",
              "      <th>uJoule/count</th>\n",
              "      <th>Spectral Power (W/nm)</th>\n",
              "      <th>Spectral Irradiance (W/m^2/nm)</th>\n",
              "    </tr>\n",
              "  </thead>\n",
              "  <tbody>\n",
              "    <tr>\n",
              "      <th>0</th>\n",
              "      <td>340.0</td>\n",
              "      <td>-50.730000</td>\n",
              "      <td>-1.292470e-26</td>\n",
              "      <td>6.556699e-30</td>\n",
              "      <td>1.637566e-25</td>\n",
              "    </tr>\n",
              "    <tr>\n",
              "      <th>1</th>\n",
              "      <td>341.0</td>\n",
              "      <td>-73.757627</td>\n",
              "      <td>2.488809e-09</td>\n",
              "      <td>-1.835687e-12</td>\n",
              "      <td>-4.584712e-08</td>\n",
              "    </tr>\n",
              "    <tr>\n",
              "      <th>2</th>\n",
              "      <td>342.0</td>\n",
              "      <td>-36.996443</td>\n",
              "      <td>-6.477047e-08</td>\n",
              "      <td>2.396277e-11</td>\n",
              "      <td>5.984813e-07</td>\n",
              "    </tr>\n",
              "    <tr>\n",
              "      <th>3</th>\n",
              "      <td>343.0</td>\n",
              "      <td>-77.979299</td>\n",
              "      <td>-1.022639e-06</td>\n",
              "      <td>7.974464e-10</td>\n",
              "      <td>1.991659e-05</td>\n",
              "    </tr>\n",
              "    <tr>\n",
              "      <th>4</th>\n",
              "      <td>344.0</td>\n",
              "      <td>-46.290978</td>\n",
              "      <td>8.783241e-05</td>\n",
              "      <td>-4.065848e-08</td>\n",
              "      <td>-1.015464e-03</td>\n",
              "    </tr>\n",
              "    <tr>\n",
              "      <th>...</th>\n",
              "      <td>...</td>\n",
              "      <td>...</td>\n",
              "      <td>...</td>\n",
              "      <td>...</td>\n",
              "      <td>...</td>\n",
              "    </tr>\n",
              "    <tr>\n",
              "      <th>677</th>\n",
              "      <td>1017.0</td>\n",
              "      <td>511.338466</td>\n",
              "      <td>4.476179e-03</td>\n",
              "      <td>2.288842e-05</td>\n",
              "      <td>5.716490e-01</td>\n",
              "    </tr>\n",
              "    <tr>\n",
              "      <th>678</th>\n",
              "      <td>1018.0</td>\n",
              "      <td>485.269099</td>\n",
              "      <td>4.630291e-03</td>\n",
              "      <td>2.246937e-05</td>\n",
              "      <td>5.611830e-01</td>\n",
              "    </tr>\n",
              "    <tr>\n",
              "      <th>679</th>\n",
              "      <td>1019.0</td>\n",
              "      <td>579.335788</td>\n",
              "      <td>4.737873e-03</td>\n",
              "      <td>2.744820e-05</td>\n",
              "      <td>6.855314e-01</td>\n",
              "    </tr>\n",
              "    <tr>\n",
              "      <th>680</th>\n",
              "      <td>1020.0</td>\n",
              "      <td>528.776415</td>\n",
              "      <td>4.762076e-03</td>\n",
              "      <td>2.518074e-05</td>\n",
              "      <td>6.289005e-01</td>\n",
              "    </tr>\n",
              "    <tr>\n",
              "      <th>681</th>\n",
              "      <td>1021.0</td>\n",
              "      <td>471.948408</td>\n",
              "      <td>5.000391e-03</td>\n",
              "      <td>2.359926e-05</td>\n",
              "      <td>5.894025e-01</td>\n",
              "    </tr>\n",
              "  </tbody>\n",
              "</table>\n",
              "<p>682 rows × 5 columns</p>\n",
              "</div>"
            ],
            "text/plain": [
              "     Wavelength(nm)  ...  Spectral Irradiance (W/m^2/nm)\n",
              "0             340.0  ...                    1.637566e-25\n",
              "1             341.0  ...                   -4.584712e-08\n",
              "2             342.0  ...                    5.984813e-07\n",
              "3             343.0  ...                    1.991659e-05\n",
              "4             344.0  ...                   -1.015464e-03\n",
              "..              ...  ...                             ...\n",
              "677          1017.0  ...                    5.716490e-01\n",
              "678          1018.0  ...                    5.611830e-01\n",
              "679          1019.0  ...                    6.855314e-01\n",
              "680          1020.0  ...                    6.289005e-01\n",
              "681          1021.0  ...                    5.894025e-01\n",
              "\n",
              "[682 rows x 5 columns]"
            ]
          },
          "metadata": {
            "tags": []
          },
          "execution_count": 19
        }
      ]
    },
    {
      "cell_type": "code",
      "metadata": {
        "id": "3__ugNCO1en4",
        "colab": {
          "base_uri": "https://localhost:8080/"
        },
        "outputId": "1f8b3ce2-2131-4677-80a3-5a5569d3a06e"
      },
      "source": [
        "#Reimann sum - low whether I use WL interval or 1.\n",
        "\n",
        "rsum = 0\n",
        "for i in range(682):\n",
        "  rsum += spec_data['Spectral Irradiance (W/m^2/nm)'][i]\n",
        "  i += 1\n",
        "rsum\n",
        " "
      ],
      "execution_count": null,
      "outputs": [
        {
          "output_type": "execute_result",
          "data": {
            "text/plain": [
              "85.44038785323636"
            ]
          },
          "metadata": {
            "tags": []
          },
          "execution_count": 20
        }
      ]
    }
  ]
}