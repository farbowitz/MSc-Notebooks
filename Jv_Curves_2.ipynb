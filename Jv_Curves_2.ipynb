{
  "nbformat": 4,
  "nbformat_minor": 0,
  "metadata": {
    "colab": {
      "name": "Jv Curves 2.ipynb",
      "provenance": [],
      "collapsed_sections": []
    },
    "kernelspec": {
      "name": "python3",
      "display_name": "Python 3"
    }
  },
  "cells": [
    {
      "cell_type": "markdown",
      "metadata": {
        "id": "az2RlKUOQl5t"
      },
      "source": [
        ""
      ]
    },
    {
      "cell_type": "code",
      "metadata": {
        "id": "SSrggvoCOoZP"
      },
      "source": [
        "#introducing libraries\n",
        "!pip install numpy scipy pandas>1.0 matplotlib"
      ],
      "execution_count": null,
      "outputs": []
    },
    {
      "cell_type": "code",
      "metadata": {
        "id": "35GTZOKnQIWl"
      },
      "source": [
        "#calling up libraries\n",
        "from datetime import datetime\n",
        "import pandas as pd\n",
        "import numpy as np\n",
        "import scipy\n",
        "import matplotlib.pyplot as plt\n",
        "from scipy.interpolate import interp1d"
      ],
      "execution_count": null,
      "outputs": []
    },
    {
      "cell_type": "code",
      "metadata": {
        "id": "_yBFoxrfQjn9",
        "colab": {
          "base_uri": "https://localhost:8080/",
          "height": 442
        },
        "outputId": "4af69e36-c00e-482d-b1f0-0e7ba748c993"
      },
      "source": [
        "#import CSV data from drive\n",
        "from google.colab import drive\n",
        "import glob\n",
        "import os\n",
        "drive.mount('drive')\n",
        "folder = \"/content/drive/MyDrive/Lab 1 - small c-Si\"\n",
        "all_files_AV = glob.glob(os.path.join(folder, '*.csv'))\n",
        "AV_li = {}\n",
        "for filename in all_files_AV:\n",
        "  #isolates name from file and drops last 3 rows\n",
        "  AV_li[filename[60:].replace(\"Current-Voltage Data.csv\", \"\")] = pd.read_csv(filename, sep = ',' , header = 2, nrows = 36, dtype=np.float64)\n",
        "all_files_spec = glob.glob(os.path.join(folder, '*.txt'))\n",
        "spec_li = {}\n",
        "time = {}\n",
        "\n",
        "for filename in all_files_spec:\n",
        "  spec_li[filename.replace(\" spectrum\",\"\").replace(\".txt\",\"\").replace(\"/content/drive/MyDrive/Lab 1 - small c-Si/\",\"\")] = pd.read_csv(filename, sep = '\\t' , header = 12)\n",
        "  time[filename.replace(\" spectrum\",\"\").replace(\".txt\",\"\").replace(\"/content/drive/MyDrive/Lab 1 - small c-Si/\",\"\")] = float(list(pd.read_csv(filename, sep = ':' , header = 5))[1])\n",
        "URL_IRR = \"https://raw.githubusercontent.com/farbowitz/PHY6011/main/1sun%20spectrum.txt\"\n",
        "URL_CALIB = \"https://raw.githubusercontent.com/farbowitz/PHY6000/main/FLMS02587_ccda_20180716_1441.IRRADCAL.csv\"\n",
        "AvsVdata = pd.read_csv(\"https://raw.githubusercontent.com/farbowitz/PHY6011/main/20-11-17_15-25-41%20red-2%20Current-Voltage%20Data.csv\", sep = ',' , header = 2, nrows=36, dtype=np.float64)\n",
        "irr_spec = pd.read_csv(URL_IRR, sep = '\\t' , header = 12)    \n",
        "calib_spec = pd.read_csv(URL_CALIB, sep=',', header = 0)\n",
        "\n",
        "#matching WL data\n",
        "calib_spec['Wavelength(nm)'] = np.round_(calib_spec['Wavelength(nm)'], 3)\n",
        "index = list(time)\n",
        "time\n",
        "\n",
        "irr_spec\n"
      ],
      "execution_count": null,
      "outputs": [
        {
          "output_type": "stream",
          "text": [
            "Drive already mounted at drive; to attempt to forcibly remount, call drive.mount(\"drive\", force_remount=True).\n"
          ],
          "name": "stdout"
        },
        {
          "output_type": "execute_result",
          "data": {
            "text/html": [
              "<div>\n",
              "<style scoped>\n",
              "    .dataframe tbody tr th:only-of-type {\n",
              "        vertical-align: middle;\n",
              "    }\n",
              "\n",
              "    .dataframe tbody tr th {\n",
              "        vertical-align: top;\n",
              "    }\n",
              "\n",
              "    .dataframe thead th {\n",
              "        text-align: right;\n",
              "    }\n",
              "</style>\n",
              "<table border=\"1\" class=\"dataframe\">\n",
              "  <thead>\n",
              "    <tr style=\"text-align: right;\">\n",
              "      <th></th>\n",
              "      <th>&gt;&gt;&gt;&gt;&gt;Begin Spectral Data&lt;&lt;&lt;&lt;&lt;</th>\n",
              "    </tr>\n",
              "  </thead>\n",
              "  <tbody>\n",
              "    <tr>\n",
              "      <th>339.619</th>\n",
              "      <td>-50.73</td>\n",
              "    </tr>\n",
              "    <tr>\n",
              "      <th>340.000</th>\n",
              "      <td>-50.73</td>\n",
              "    </tr>\n",
              "    <tr>\n",
              "      <th>340.381</th>\n",
              "      <td>-50.73</td>\n",
              "    </tr>\n",
              "    <tr>\n",
              "      <th>340.762</th>\n",
              "      <td>-102.85</td>\n",
              "    </tr>\n",
              "    <tr>\n",
              "      <th>341.143</th>\n",
              "      <td>-60.66</td>\n",
              "    </tr>\n",
              "    <tr>\n",
              "      <th>...</th>\n",
              "      <td>...</td>\n",
              "    </tr>\n",
              "    <tr>\n",
              "      <th>1020.576</th>\n",
              "      <td>500.30</td>\n",
              "    </tr>\n",
              "    <tr>\n",
              "      <th>1020.854</th>\n",
              "      <td>477.96</td>\n",
              "    </tr>\n",
              "    <tr>\n",
              "      <th>1021.132</th>\n",
              "      <td>470.51</td>\n",
              "    </tr>\n",
              "    <tr>\n",
              "      <th>1021.410</th>\n",
              "      <td>470.51</td>\n",
              "    </tr>\n",
              "    <tr>\n",
              "      <th>1021.688</th>\n",
              "      <td>470.51</td>\n",
              "    </tr>\n",
              "  </tbody>\n",
              "</table>\n",
              "<p>2048 rows × 1 columns</p>\n",
              "</div>"
            ],
            "text/plain": [
              "          >>>>>Begin Spectral Data<<<<<\n",
              "339.619                          -50.73\n",
              "340.000                          -50.73\n",
              "340.381                          -50.73\n",
              "340.762                         -102.85\n",
              "341.143                          -60.66\n",
              "...                                 ...\n",
              "1020.576                         500.30\n",
              "1020.854                         477.96\n",
              "1021.132                         470.51\n",
              "1021.410                         470.51\n",
              "1021.688                         470.51\n",
              "\n",
              "[2048 rows x 1 columns]"
            ]
          },
          "metadata": {
            "tags": []
          },
          "execution_count": 9
        }
      ]
    },
    {
      "cell_type": "code",
      "metadata": {
        "id": "rhK8yrUpdWZH",
        "colab": {
          "base_uri": "https://localhost:8080/"
        },
        "outputId": "b72efd1e-e746-491a-800e-0f981981db45"
      },
      "source": [
        "#Merge and compute\n",
        "def get_irradiance(spec, calib = calib_spec):\n",
        "  ujoule = (np.asarray(spec[list(spec)[0]]) * np.asarray(calib[' uJoule/count'])).sum() \n",
        "  irrad = ujoule * 1e-6 / time['0.2sun'] / 4.00393e-5\n",
        "  return irrad\n",
        "\n",
        "get_irradiance(spec_li['0.2sun'])\n",
        "\n"
      ],
      "execution_count": null,
      "outputs": [
        {
          "output_type": "execute_result",
          "data": {
            "text/plain": [
              "91.54585868783919"
            ]
          },
          "metadata": {
            "tags": []
          },
          "execution_count": 8
        }
      ]
    },
    {
      "cell_type": "code",
      "metadata": {
        "id": "J9r9OkE2wh_Y"
      },
      "source": [
        "\n",
        "def get_vals(input_data, spectrum, name):\n",
        "  x=np.asarray(input_data['V'])\n",
        "  y=np.asarray(10*input_data['mA.cm^-2'])\n",
        "    #changing mA/cm^2 to A/m^2\n",
        "  #creates spline cubic interpolation function\n",
        "  f = interp1d(x, y, 'cubic')\n",
        "  #get zeroes from interpolation \n",
        "  Jsc = float(f(0))\n",
        "  if len(scipy.interpolate.InterpolatedUnivariateSpline(x, y).roots()) == 1:\n",
        "    Voc = float(scipy.interpolate.InterpolatedUnivariateSpline(x, y).roots())\n",
        "  else:\n",
        "    Voc = 2\n",
        "  #plot x*y vs x to get P vs V\n",
        "  PvsVdata = pd.DataFrame(np.stack((np.asarray(x), np.asarray(x)*np.asarray(y)), axis =-1), columns=('Voltage(V)', 'Power(W/m^2)'))\n",
        "  #other relevant quantities\n",
        "  Pmax = min(PvsVdata['Power(W/m^2)'])\n",
        "  FF = Pmax /(Jsc*Voc)\n",
        "  #Irradiance from spectral data\n",
        "  Ispec = (np.asarray(calib_spec[' uJoule/count'])*np.asarray(spectrum[list(spectrum)[0]])).sum()*1e-6/(time[stuff]*4.00393e-5)\n",
        "  PCE = -Pmax / (Ispec)\n",
        "  return {'Experiment Type': name, 'Irradiance': Ispec, 'Jsc':Jsc, 'Voc':Voc, 'Pmax':Pmax, 'FF':FF , 'PCE':PCE}\n"
      ],
      "execution_count": null,
      "outputs": []
    },
    {
      "cell_type": "code",
      "metadata": {
        "colab": {
          "base_uri": "https://localhost:8080/",
          "height": 614
        },
        "id": "IWYafAoGzJ-s",
        "outputId": "15ee3b01-15d4-4239-9cae-c575665f33fe"
      },
      "source": [
        "bigdf = pd.DataFrame(columns = ['Experiment Type','Irradiance', 'Jsc', 'Voc', 'Pmax', 'FF', 'PCE'])\n",
        "for AVdata in list(AV_li):\n",
        "  for stuff in list(spec_li):\n",
        "    #if the first three letters match, use that spectrum for the data\n",
        "    if (AVdata[:3] == stuff[:3]):\n",
        "      bigdf = bigdf.append(get_vals(AV_li[AVdata], spec_li[stuff], AVdata), ignore_index=True)\n",
        "bigdf\n",
        "    "
      ],
      "execution_count": null,
      "outputs": [
        {
          "output_type": "execute_result",
          "data": {
            "text/html": [
              "<div>\n",
              "<style scoped>\n",
              "    .dataframe tbody tr th:only-of-type {\n",
              "        vertical-align: middle;\n",
              "    }\n",
              "\n",
              "    .dataframe tbody tr th {\n",
              "        vertical-align: top;\n",
              "    }\n",
              "\n",
              "    .dataframe thead th {\n",
              "        text-align: right;\n",
              "    }\n",
              "</style>\n",
              "<table border=\"1\" class=\"dataframe\">\n",
              "  <thead>\n",
              "    <tr style=\"text-align: right;\">\n",
              "      <th></th>\n",
              "      <th>Experiment Type</th>\n",
              "      <th>Irradiance</th>\n",
              "      <th>Jsc</th>\n",
              "      <th>Voc</th>\n",
              "      <th>Pmax</th>\n",
              "      <th>FF</th>\n",
              "      <th>PCE</th>\n",
              "    </tr>\n",
              "  </thead>\n",
              "  <tbody>\n",
              "    <tr>\n",
              "      <th>0</th>\n",
              "      <td>white1</td>\n",
              "      <td>78.292489</td>\n",
              "      <td>-7.203598</td>\n",
              "      <td>0.490926</td>\n",
              "      <td>-2.753890</td>\n",
              "      <td>0.778720</td>\n",
              "      <td>0.035174</td>\n",
              "    </tr>\n",
              "    <tr>\n",
              "      <th>1</th>\n",
              "      <td>yellow2</td>\n",
              "      <td>71.996358</td>\n",
              "      <td>-5.748880</td>\n",
              "      <td>0.475595</td>\n",
              "      <td>-3.145913</td>\n",
              "      <td>1.150605</td>\n",
              "      <td>0.043695</td>\n",
              "    </tr>\n",
              "    <tr>\n",
              "      <th>2</th>\n",
              "      <td>white3</td>\n",
              "      <td>78.292489</td>\n",
              "      <td>-7.087936</td>\n",
              "      <td>0.490344</td>\n",
              "      <td>-2.697523</td>\n",
              "      <td>0.776147</td>\n",
              "      <td>0.034454</td>\n",
              "    </tr>\n",
              "    <tr>\n",
              "      <th>3</th>\n",
              "      <td>green</td>\n",
              "      <td>70.083468</td>\n",
              "      <td>-6.234215</td>\n",
              "      <td>0.487035</td>\n",
              "      <td>-2.355832</td>\n",
              "      <td>0.775893</td>\n",
              "      <td>0.033615</td>\n",
              "    </tr>\n",
              "    <tr>\n",
              "      <th>4</th>\n",
              "      <td>white2</td>\n",
              "      <td>78.292489</td>\n",
              "      <td>-7.058209</td>\n",
              "      <td>0.490474</td>\n",
              "      <td>-2.689689</td>\n",
              "      <td>0.776947</td>\n",
              "      <td>0.034354</td>\n",
              "    </tr>\n",
              "    <tr>\n",
              "      <th>5</th>\n",
              "      <td>red</td>\n",
              "      <td>129.026349</td>\n",
              "      <td>-5.759131</td>\n",
              "      <td>0.485234</td>\n",
              "      <td>-2.181753</td>\n",
              "      <td>0.780724</td>\n",
              "      <td>0.016909</td>\n",
              "    </tr>\n",
              "    <tr>\n",
              "      <th>6</th>\n",
              "      <td>roomlight</td>\n",
              "      <td>52.669023</td>\n",
              "      <td>0.045877</td>\n",
              "      <td>2.000000</td>\n",
              "      <td>-0.006937</td>\n",
              "      <td>-0.075609</td>\n",
              "      <td>0.000132</td>\n",
              "    </tr>\n",
              "    <tr>\n",
              "      <th>7</th>\n",
              "      <td>blue</td>\n",
              "      <td>139.243134</td>\n",
              "      <td>-8.927834</td>\n",
              "      <td>0.496891</td>\n",
              "      <td>-3.465873</td>\n",
              "      <td>0.781277</td>\n",
              "      <td>0.024891</td>\n",
              "    </tr>\n",
              "    <tr>\n",
              "      <th>8</th>\n",
              "      <td>yellow</td>\n",
              "      <td>71.996358</td>\n",
              "      <td>-3.232137</td>\n",
              "      <td>2.000000</td>\n",
              "      <td>-3.679121</td>\n",
              "      <td>0.569147</td>\n",
              "      <td>0.051101</td>\n",
              "    </tr>\n",
              "    <tr>\n",
              "      <th>9</th>\n",
              "      <td>violet</td>\n",
              "      <td>143.785054</td>\n",
              "      <td>-7.868117</td>\n",
              "      <td>0.495933</td>\n",
              "      <td>-3.543750</td>\n",
              "      <td>0.908175</td>\n",
              "      <td>0.024646</td>\n",
              "    </tr>\n",
              "    <tr>\n",
              "      <th>10</th>\n",
              "      <td>0.6suns</td>\n",
              "      <td>174.790094</td>\n",
              "      <td>-56.997191</td>\n",
              "      <td>0.545408</td>\n",
              "      <td>-22.966007</td>\n",
              "      <td>0.738772</td>\n",
              "      <td>0.131392</td>\n",
              "    </tr>\n",
              "    <tr>\n",
              "      <th>11</th>\n",
              "      <td>1.0suns</td>\n",
              "      <td>265.645808</td>\n",
              "      <td>-105.103705</td>\n",
              "      <td>0.561009</td>\n",
              "      <td>-40.701138</td>\n",
              "      <td>0.690269</td>\n",
              "      <td>0.153216</td>\n",
              "    </tr>\n",
              "    <tr>\n",
              "      <th>12</th>\n",
              "      <td>0.2suns</td>\n",
              "      <td>91.545859</td>\n",
              "      <td>-15.623382</td>\n",
              "      <td>0.511471</td>\n",
              "      <td>-6.207649</td>\n",
              "      <td>0.776839</td>\n",
              "      <td>0.067809</td>\n",
              "    </tr>\n",
              "    <tr>\n",
              "      <th>13</th>\n",
              "      <td>1.0suns-redo</td>\n",
              "      <td>265.645808</td>\n",
              "      <td>-105.419017</td>\n",
              "      <td>0.561197</td>\n",
              "      <td>-40.839013</td>\n",
              "      <td>0.690304</td>\n",
              "      <td>0.153735</td>\n",
              "    </tr>\n",
              "    <tr>\n",
              "      <th>14</th>\n",
              "      <td>0.4suns</td>\n",
              "      <td>133.963747</td>\n",
              "      <td>-34.627112</td>\n",
              "      <td>0.532667</td>\n",
              "      <td>-14.062432</td>\n",
              "      <td>0.762409</td>\n",
              "      <td>0.104972</td>\n",
              "    </tr>\n",
              "    <tr>\n",
              "      <th>15</th>\n",
              "      <td>red-2</td>\n",
              "      <td>129.026349</td>\n",
              "      <td>-5.754759</td>\n",
              "      <td>0.484529</td>\n",
              "      <td>-2.169516</td>\n",
              "      <td>0.778066</td>\n",
              "      <td>0.016815</td>\n",
              "    </tr>\n",
              "    <tr>\n",
              "      <th>16</th>\n",
              "      <td>0.8suns</td>\n",
              "      <td>222.173616</td>\n",
              "      <td>-79.077039</td>\n",
              "      <td>0.553298</td>\n",
              "      <td>-31.320007</td>\n",
              "      <td>0.715834</td>\n",
              "      <td>0.140971</td>\n",
              "    </tr>\n",
              "    <tr>\n",
              "      <th>17</th>\n",
              "      <td>0.8suns-redo</td>\n",
              "      <td>222.173616</td>\n",
              "      <td>-81.053950</td>\n",
              "      <td>0.554820</td>\n",
              "      <td>-32.108793</td>\n",
              "      <td>0.713999</td>\n",
              "      <td>0.144521</td>\n",
              "    </tr>\n",
              "  </tbody>\n",
              "</table>\n",
              "</div>"
            ],
            "text/plain": [
              "   Experiment Type  Irradiance         Jsc  ...       Pmax        FF       PCE\n",
              "0          white1    78.292489   -7.203598  ...  -2.753890  0.778720  0.035174\n",
              "1         yellow2    71.996358   -5.748880  ...  -3.145913  1.150605  0.043695\n",
              "2          white3    78.292489   -7.087936  ...  -2.697523  0.776147  0.034454\n",
              "3           green    70.083468   -6.234215  ...  -2.355832  0.775893  0.033615\n",
              "4          white2    78.292489   -7.058209  ...  -2.689689  0.776947  0.034354\n",
              "5             red   129.026349   -5.759131  ...  -2.181753  0.780724  0.016909\n",
              "6       roomlight    52.669023    0.045877  ...  -0.006937 -0.075609  0.000132\n",
              "7            blue   139.243134   -8.927834  ...  -3.465873  0.781277  0.024891\n",
              "8          yellow    71.996358   -3.232137  ...  -3.679121  0.569147  0.051101\n",
              "9          violet   143.785054   -7.868117  ...  -3.543750  0.908175  0.024646\n",
              "10        0.6suns   174.790094  -56.997191  ... -22.966007  0.738772  0.131392\n",
              "11        1.0suns   265.645808 -105.103705  ... -40.701138  0.690269  0.153216\n",
              "12        0.2suns    91.545859  -15.623382  ...  -6.207649  0.776839  0.067809\n",
              "13   1.0suns-redo   265.645808 -105.419017  ... -40.839013  0.690304  0.153735\n",
              "14        0.4suns   133.963747  -34.627112  ... -14.062432  0.762409  0.104972\n",
              "15          red-2   129.026349   -5.754759  ...  -2.169516  0.778066  0.016815\n",
              "16        0.8suns   222.173616  -79.077039  ... -31.320007  0.715834  0.140971\n",
              "17   0.8suns-redo   222.173616  -81.053950  ... -32.108793  0.713999  0.144521\n",
              "\n",
              "[18 rows x 7 columns]"
            ]
          },
          "metadata": {
            "tags": []
          },
          "execution_count": 48
        }
      ]
    },
    {
      "cell_type": "code",
      "metadata": {
        "id": "ZnXadluPdvOQ",
        "colab": {
          "base_uri": "https://localhost:8080/",
          "height": 656
        },
        "outputId": "f541860b-e12d-43c9-e14d-d95e1ce7ca3f"
      },
      "source": [
        "\n",
        "def get_vals(input_data, spectrum):\n",
        "  x=[]\n",
        "  y=[]\n",
        "  for i in range(35):\n",
        "    #converts into 1D array by column number\n",
        "    x.append(float(np.asarray(input_data[list(input_data)[0]][0:35])[i]))\n",
        "    #changing mA/cm^2 to A/m^2\n",
        "    y.append(10*float(np.asarray(input_data[list(input_data)[1]][0:35])[i]))\n",
        "  plt.scatter(x, y)\n",
        "  #creates spline cubic interpolation function\n",
        "  f = interp1d(x, y, 'cubic')\n",
        "  #get zeroes from interpolation \n",
        "  Jsc = float(f(0))\n",
        "  Voc = float(scipy.interpolate.InterpolatedUnivariateSpline(x, y).roots())\n",
        "  #plot x*y vs x to get P vs V\n",
        "  PvsVdata = pd.DataFrame(np.stack((np.asarray(x), np.asarray(x)*np.asarray(y)), axis =-1), columns=('Voltage(V)', 'Power(W)'))\n",
        "  PvsVdata.plot.scatter(x=0, y=1)\n",
        "  #other relevant quantities\n",
        "  Pmax = min(PvsVdata['Power(W)'])\n",
        "  FF = Pmax /(Jsc*Voc)\n",
        "  #Irradiance from spectral data\n",
        "  Ispec = (np.asarray(calib_spec[' uJoule/count'])*np.asarray(spectrum[list(spectrum)[0]])).sum()*1e-6/(timems*4.00393e-5)\n",
        "  PCE = -Pmax / (Ispec*cellarea)\n",
        "  return 'Data', Ispec, Jsc, Voc, Pmax, FF , PCE\n",
        "get_vals(AvsVdata, red_spec)"
      ],
      "execution_count": null,
      "outputs": [
        {
          "output_type": "execute_result",
          "data": {
            "text/plain": [
              "('Data',\n",
              " 129.02634946365194,\n",
              " -5.75475879742896,\n",
              " 0.4845282743700664,\n",
              " -2.169515982071713,\n",
              " 0.7780662960442538,\n",
              " 3349.505742177166)"
            ]
          },
          "metadata": {
            "tags": []
          },
          "execution_count": 60
        },
        {
          "output_type": "display_data",
          "data": {
            "image/png": "[encoded data removed]",
            "text/plain": [
              "<Figure size 432x288 with 1 Axes>"
            ]
          },
          "metadata": {
            "tags": [],
            "needs_background": "light"
          }
        },
        {
          "output_type": "display_data",
          "data": {
            "image/png": "[encoded data removed]",
            "text/plain": [
              "<Figure size 432x288 with 1 Axes>"
            ]
          },
          "metadata": {
            "tags": [],
            "needs_background": "light"
          }
        }
      ]
    },
    {
      "cell_type": "code",
      "metadata": {
        "id": "t4mDhosWVp64",
        "colab": {
          "base_uri": "https://localhost:8080/",
          "height": 603
        },
        "outputId": "a04fe4e7-fafa-4778-fa7f-db079955d13e"
      },
      "source": [
        ""
      ],
      "execution_count": null,
      "outputs": [
        {
          "output_type": "error",
          "ename": "KeyError",
          "evalue": "ignored",
          "traceback": [
            "\u001b[0;31m---------------------------------------------------------------------------\u001b[0m",
            "\u001b[0;31mKeyError\u001b[0m                                  Traceback (most recent call last)",
            "\u001b[0;32m/usr/local/lib/python3.6/dist-packages/pandas/core/indexes/base.py\u001b[0m in \u001b[0;36mget_loc\u001b[0;34m(self, key, method, tolerance)\u001b[0m\n\u001b[1;32m   2894\u001b[0m             \u001b[0;32mtry\u001b[0m\u001b[0;34m:\u001b[0m\u001b[0;34m\u001b[0m\u001b[0;34m\u001b[0m\u001b[0m\n\u001b[0;32m-> 2895\u001b[0;31m                 \u001b[0;32mreturn\u001b[0m \u001b[0mself\u001b[0m\u001b[0;34m.\u001b[0m\u001b[0m_engine\u001b[0m\u001b[0;34m.\u001b[0m\u001b[0mget_loc\u001b[0m\u001b[0;34m(\u001b[0m\u001b[0mcasted_key\u001b[0m\u001b[0;34m)\u001b[0m\u001b[0;34m\u001b[0m\u001b[0;34m\u001b[0m\u001b[0m\n\u001b[0m\u001b[1;32m   2896\u001b[0m             \u001b[0;32mexcept\u001b[0m \u001b[0mKeyError\u001b[0m \u001b[0;32mas\u001b[0m \u001b[0merr\u001b[0m\u001b[0;34m:\u001b[0m\u001b[0;34m\u001b[0m\u001b[0;34m\u001b[0m\u001b[0m\n",
            "\u001b[0;32mpandas/_libs/index.pyx\u001b[0m in \u001b[0;36mpandas._libs.index.IndexEngine.get_loc\u001b[0;34m()\u001b[0m\n",
            "\u001b[0;32mpandas/_libs/index.pyx\u001b[0m in \u001b[0;36mpandas._libs.index.IndexEngine.get_loc\u001b[0;34m()\u001b[0m\n",
            "\u001b[0;32mpandas/_libs/hashtable_class_helper.pxi\u001b[0m in \u001b[0;36mpandas._libs.hashtable.PyObjectHashTable.get_item\u001b[0;34m()\u001b[0m\n",
            "\u001b[0;32mpandas/_libs/hashtable_class_helper.pxi\u001b[0m in \u001b[0;36mpandas._libs.hashtable.PyObjectHashTable.get_item\u001b[0;34m()\u001b[0m\n",
            "\u001b[0;31mKeyError\u001b[0m: 0",
            "\nThe above exception was the direct cause of the following exception:\n",
            "\u001b[0;31mKeyError\u001b[0m                                  Traceback (most recent call last)",
            "\u001b[0;32m<ipython-input-9-c0a08bc0e689>\u001b[0m in \u001b[0;36m<module>\u001b[0;34m()\u001b[0m\n\u001b[0;32m----> 1\u001b[0;31m \u001b[0mcalib_spec\u001b[0m\u001b[0;34m[\u001b[0m\u001b[0;36m0\u001b[0m\u001b[0;34m]\u001b[0m \u001b[0;34m=\u001b[0m \u001b[0mround\u001b[0m\u001b[0;34m(\u001b[0m\u001b[0mcalib_spec\u001b[0m\u001b[0;34m[\u001b[0m\u001b[0;36m0\u001b[0m\u001b[0;34m]\u001b[0m\u001b[0;34m,\u001b[0m \u001b[0;36m3\u001b[0m\u001b[0;34m)\u001b[0m\u001b[0;34m\u001b[0m\u001b[0;34m\u001b[0m\u001b[0m\n\u001b[0m",
            "\u001b[0;32m/usr/local/lib/python3.6/dist-packages/pandas/core/frame.py\u001b[0m in \u001b[0;36m__getitem__\u001b[0;34m(self, key)\u001b[0m\n\u001b[1;32m   2904\u001b[0m             \u001b[0;32mif\u001b[0m \u001b[0mself\u001b[0m\u001b[0;34m.\u001b[0m\u001b[0mcolumns\u001b[0m\u001b[0;34m.\u001b[0m\u001b[0mnlevels\u001b[0m \u001b[0;34m>\u001b[0m \u001b[0;36m1\u001b[0m\u001b[0;34m:\u001b[0m\u001b[0;34m\u001b[0m\u001b[0;34m\u001b[0m\u001b[0m\n\u001b[1;32m   2905\u001b[0m                 \u001b[0;32mreturn\u001b[0m \u001b[0mself\u001b[0m\u001b[0;34m.\u001b[0m\u001b[0m_getitem_multilevel\u001b[0m\u001b[0;34m(\u001b[0m\u001b[0mkey\u001b[0m\u001b[0;34m)\u001b[0m\u001b[0;34m\u001b[0m\u001b[0;34m\u001b[0m\u001b[0m\n\u001b[0;32m-> 2906\u001b[0;31m             \u001b[0mindexer\u001b[0m \u001b[0;34m=\u001b[0m \u001b[0mself\u001b[0m\u001b[0;34m.\u001b[0m\u001b[0mcolumns\u001b[0m\u001b[0;34m.\u001b[0m\u001b[0mget_loc\u001b[0m\u001b[0;34m(\u001b[0m\u001b[0mkey\u001b[0m\u001b[0;34m)\u001b[0m\u001b[0;34m\u001b[0m\u001b[0;34m\u001b[0m\u001b[0m\n\u001b[0m\u001b[1;32m   2907\u001b[0m             \u001b[0;32mif\u001b[0m \u001b[0mis_integer\u001b[0m\u001b[0;34m(\u001b[0m\u001b[0mindexer\u001b[0m\u001b[0;34m)\u001b[0m\u001b[0;34m:\u001b[0m\u001b[0;34m\u001b[0m\u001b[0;34m\u001b[0m\u001b[0m\n\u001b[1;32m   2908\u001b[0m                 \u001b[0mindexer\u001b[0m \u001b[0;34m=\u001b[0m \u001b[0;34m[\u001b[0m\u001b[0mindexer\u001b[0m\u001b[0;34m]\u001b[0m\u001b[0;34m\u001b[0m\u001b[0;34m\u001b[0m\u001b[0m\n",
            "\u001b[0;32m/usr/local/lib/python3.6/dist-packages/pandas/core/indexes/base.py\u001b[0m in \u001b[0;36mget_loc\u001b[0;34m(self, key, method, tolerance)\u001b[0m\n\u001b[1;32m   2895\u001b[0m                 \u001b[0;32mreturn\u001b[0m \u001b[0mself\u001b[0m\u001b[0;34m.\u001b[0m\u001b[0m_engine\u001b[0m\u001b[0;34m.\u001b[0m\u001b[0mget_loc\u001b[0m\u001b[0;34m(\u001b[0m\u001b[0mcasted_key\u001b[0m\u001b[0;34m)\u001b[0m\u001b[0;34m\u001b[0m\u001b[0;34m\u001b[0m\u001b[0m\n\u001b[1;32m   2896\u001b[0m             \u001b[0;32mexcept\u001b[0m \u001b[0mKeyError\u001b[0m \u001b[0;32mas\u001b[0m \u001b[0merr\u001b[0m\u001b[0;34m:\u001b[0m\u001b[0;34m\u001b[0m\u001b[0;34m\u001b[0m\u001b[0m\n\u001b[0;32m-> 2897\u001b[0;31m                 \u001b[0;32mraise\u001b[0m \u001b[0mKeyError\u001b[0m\u001b[0;34m(\u001b[0m\u001b[0mkey\u001b[0m\u001b[0;34m)\u001b[0m \u001b[0;32mfrom\u001b[0m \u001b[0merr\u001b[0m\u001b[0;34m\u001b[0m\u001b[0;34m\u001b[0m\u001b[0m\n\u001b[0m\u001b[1;32m   2898\u001b[0m \u001b[0;34m\u001b[0m\u001b[0m\n\u001b[1;32m   2899\u001b[0m         \u001b[0;32mif\u001b[0m \u001b[0mtolerance\u001b[0m \u001b[0;32mis\u001b[0m \u001b[0;32mnot\u001b[0m \u001b[0;32mNone\u001b[0m\u001b[0;34m:\u001b[0m\u001b[0;34m\u001b[0m\u001b[0;34m\u001b[0m\u001b[0m\n",
            "\u001b[0;31mKeyError\u001b[0m: 0"
          ]
        }
      ]
    },
    {
      "cell_type": "code",
      "metadata": {
        "id": "IjrHu98PipaX",
        "colab": {
          "base_uri": "https://localhost:8080/",
          "height": 424
        },
        "outputId": "0d780574-ec7f-413e-96e7-715001c1b68f"
      },
      "source": [
        "#constructing other values\n",
        "spec_data['Spectral Power (W/nm)'] = spec_data['Counts']*spec_data['uJoule/count']*1e-6/timems\n",
        "spec_data['Spectral Irradiance (W/m^2/nm)'] = spec_data['Spectral Power (W/nm)']/(4.00393e-5)\n",
        "spec_data"
      ],
      "execution_count": null,
      "outputs": [
        {
          "output_type": "execute_result",
          "data": {
            "text/html": [
              "<div>\n",
              "<style scoped>\n",
              "    .dataframe tbody tr th:only-of-type {\n",
              "        vertical-align: middle;\n",
              "    }\n",
              "\n",
              "    .dataframe tbody tr th {\n",
              "        vertical-align: top;\n",
              "    }\n",
              "\n",
              "    .dataframe thead th {\n",
              "        text-align: right;\n",
              "    }\n",
              "</style>\n",
              "<table border=\"1\" class=\"dataframe\">\n",
              "  <thead>\n",
              "    <tr style=\"text-align: right;\">\n",
              "      <th></th>\n",
              "      <th>Wavelength(nm)</th>\n",
              "      <th>Counts</th>\n",
              "      <th>uJoule/count</th>\n",
              "      <th>Spectral Power (W/nm)</th>\n",
              "      <th>Spectral Irradiance (W/m^2/nm)</th>\n",
              "    </tr>\n",
              "  </thead>\n",
              "  <tbody>\n",
              "    <tr>\n",
              "      <th>0</th>\n",
              "      <td>340.0</td>\n",
              "      <td>-50.730000</td>\n",
              "      <td>-1.292470e-26</td>\n",
              "      <td>6.556699e-30</td>\n",
              "      <td>1.637566e-25</td>\n",
              "    </tr>\n",
              "    <tr>\n",
              "      <th>1</th>\n",
              "      <td>341.0</td>\n",
              "      <td>-73.757627</td>\n",
              "      <td>2.488809e-09</td>\n",
              "      <td>-1.835687e-12</td>\n",
              "      <td>-4.584712e-08</td>\n",
              "    </tr>\n",
              "    <tr>\n",
              "      <th>2</th>\n",
              "      <td>342.0</td>\n",
              "      <td>-36.996443</td>\n",
              "      <td>-6.477047e-08</td>\n",
              "      <td>2.396277e-11</td>\n",
              "      <td>5.984813e-07</td>\n",
              "    </tr>\n",
              "    <tr>\n",
              "      <th>3</th>\n",
              "      <td>343.0</td>\n",
              "      <td>-77.979299</td>\n",
              "      <td>-1.022639e-06</td>\n",
              "      <td>7.974464e-10</td>\n",
              "      <td>1.991659e-05</td>\n",
              "    </tr>\n",
              "    <tr>\n",
              "      <th>4</th>\n",
              "      <td>344.0</td>\n",
              "      <td>-46.290978</td>\n",
              "      <td>8.783241e-05</td>\n",
              "      <td>-4.065848e-08</td>\n",
              "      <td>-1.015464e-03</td>\n",
              "    </tr>\n",
              "    <tr>\n",
              "      <th>...</th>\n",
              "      <td>...</td>\n",
              "      <td>...</td>\n",
              "      <td>...</td>\n",
              "      <td>...</td>\n",
              "      <td>...</td>\n",
              "    </tr>\n",
              "    <tr>\n",
              "      <th>677</th>\n",
              "      <td>1017.0</td>\n",
              "      <td>511.338466</td>\n",
              "      <td>4.476179e-03</td>\n",
              "      <td>2.288842e-05</td>\n",
              "      <td>5.716490e-01</td>\n",
              "    </tr>\n",
              "    <tr>\n",
              "      <th>678</th>\n",
              "      <td>1018.0</td>\n",
              "      <td>485.269099</td>\n",
              "      <td>4.630291e-03</td>\n",
              "      <td>2.246937e-05</td>\n",
              "      <td>5.611830e-01</td>\n",
              "    </tr>\n",
              "    <tr>\n",
              "      <th>679</th>\n",
              "      <td>1019.0</td>\n",
              "      <td>579.335788</td>\n",
              "      <td>4.737873e-03</td>\n",
              "      <td>2.744820e-05</td>\n",
              "      <td>6.855314e-01</td>\n",
              "    </tr>\n",
              "    <tr>\n",
              "      <th>680</th>\n",
              "      <td>1020.0</td>\n",
              "      <td>528.776415</td>\n",
              "      <td>4.762076e-03</td>\n",
              "      <td>2.518074e-05</td>\n",
              "      <td>6.289005e-01</td>\n",
              "    </tr>\n",
              "    <tr>\n",
              "      <th>681</th>\n",
              "      <td>1021.0</td>\n",
              "      <td>471.948408</td>\n",
              "      <td>5.000391e-03</td>\n",
              "      <td>2.359926e-05</td>\n",
              "      <td>5.894025e-01</td>\n",
              "    </tr>\n",
              "  </tbody>\n",
              "</table>\n",
              "<p>682 rows × 5 columns</p>\n",
              "</div>"
            ],
            "text/plain": [
              "     Wavelength(nm)  ...  Spectral Irradiance (W/m^2/nm)\n",
              "0             340.0  ...                    1.637566e-25\n",
              "1             341.0  ...                   -4.584712e-08\n",
              "2             342.0  ...                    5.984813e-07\n",
              "3             343.0  ...                    1.991659e-05\n",
              "4             344.0  ...                   -1.015464e-03\n",
              "..              ...  ...                             ...\n",
              "677          1017.0  ...                    5.716490e-01\n",
              "678          1018.0  ...                    5.611830e-01\n",
              "679          1019.0  ...                    6.855314e-01\n",
              "680          1020.0  ...                    6.289005e-01\n",
              "681          1021.0  ...                    5.894025e-01\n",
              "\n",
              "[682 rows x 5 columns]"
            ]
          },
          "metadata": {
            "tags": []
          },
          "execution_count": 19
        }
      ]
    },
    {
      "cell_type": "code",
      "metadata": {
        "id": "3__ugNCO1en4",
        "colab": {
          "base_uri": "https://localhost:8080/",
          "height": 247
        },
        "outputId": "a112ab1f-95a8-44eb-ae11-1bba3ee0755f"
      },
      "source": [
        "#Reimann sum - low whether I use WL interval or 1.\n",
        "\n",
        "rsum = 0\n",
        "for i in range(682):\n",
        "  rsum += spec_data['Spectral Irradiance (W/m^2/nm)'][i]\n",
        "  i += 1\n",
        "rsum\n",
        " "
      ],
      "execution_count": null,
      "outputs": [
        {
          "output_type": "error",
          "ename": "NameError",
          "evalue": "ignored",
          "traceback": [
            "\u001b[0;31m---------------------------------------------------------------------------\u001b[0m",
            "\u001b[0;31mNameError\u001b[0m                                 Traceback (most recent call last)",
            "\u001b[0;32m<ipython-input-1-0e65c53ca4ad>\u001b[0m in \u001b[0;36m<module>\u001b[0;34m()\u001b[0m\n\u001b[1;32m      3\u001b[0m \u001b[0mrsum\u001b[0m \u001b[0;34m=\u001b[0m \u001b[0;36m0\u001b[0m\u001b[0;34m\u001b[0m\u001b[0;34m\u001b[0m\u001b[0m\n\u001b[1;32m      4\u001b[0m \u001b[0;32mfor\u001b[0m \u001b[0mi\u001b[0m \u001b[0;32min\u001b[0m \u001b[0mrange\u001b[0m\u001b[0;34m(\u001b[0m\u001b[0;36m682\u001b[0m\u001b[0;34m)\u001b[0m\u001b[0;34m:\u001b[0m\u001b[0;34m\u001b[0m\u001b[0;34m\u001b[0m\u001b[0m\n\u001b[0;32m----> 5\u001b[0;31m   \u001b[0mrsum\u001b[0m \u001b[0;34m+=\u001b[0m \u001b[0mspec_data\u001b[0m\u001b[0;34m[\u001b[0m\u001b[0;34m'Spectral Irradiance (W/m^2/nm)'\u001b[0m\u001b[0;34m]\u001b[0m\u001b[0;34m[\u001b[0m\u001b[0mi\u001b[0m\u001b[0;34m]\u001b[0m\u001b[0;34m\u001b[0m\u001b[0;34m\u001b[0m\u001b[0m\n\u001b[0m\u001b[1;32m      6\u001b[0m   \u001b[0mi\u001b[0m \u001b[0;34m+=\u001b[0m \u001b[0;36m1\u001b[0m\u001b[0;34m\u001b[0m\u001b[0;34m\u001b[0m\u001b[0m\n\u001b[1;32m      7\u001b[0m \u001b[0mrsum\u001b[0m\u001b[0;34m\u001b[0m\u001b[0;34m\u001b[0m\u001b[0m\n",
            "\u001b[0;31mNameError\u001b[0m: name 'spec_data' is not defined"
          ]
        }
      ]
    }
  ]
}