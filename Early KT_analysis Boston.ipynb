{
  "cells": [
    {
      "cell_type": "markdown",
      "metadata": {
        "colab_type": "text",
        "id": "view-in-github"
      },
      "source": [
        "<a href=\"https://colab.research.google.com/github/farbowitz/MSc-Notebooks/blob/main/A2_KT_analysis_Farbowitz.ipynb\" target=\"_parent\"><img src=\"https://colab.research.google.com/assets/colab-badge.svg\" alt=\"Open In Colab\"/></a>"
      ]
    },
    {
      "cell_type": "markdown",
      "metadata": {
        "id": "r7bk-4gAIe7v"
      },
      "source": [
        "## **KT analysis**\n",
        "*Dan Farbowitz*\n",
        "\n",
        "A note book to explore clearness index calculation and distributions using pvlib.\n",
        "Originally designed by Jamie Taylor, A Buckley\n",
        "\n",
        "First Authored: 2019-11-05\n",
        "\n",
        "Revised: 2020-11-23\n"
      ]
    },
    {
      "cell_type": "markdown",
      "metadata": {
        "id": "ndLlsjzxI2Nm"
      },
      "source": [
        "Install python package"
      ]
    },
    {
      "cell_type": "code",
      "execution_count": null,
      "metadata": {
        "id": "FoGQtTURJeDG",
        "vscode": {
          "languageId": "python"
        }
      },
      "outputs": [],
      "source": [
        "!pip install numpy pandas>1.0 matplotlib pvlib geopy geocoder"
      ]
    },
    {
      "cell_type": "markdown",
      "metadata": {
        "id": "UGIrXsjcJswI"
      },
      "source": [
        "Import modules. Note that at the moment the code to \"mount\" your google drive store as a drive where you can save data is commented out."
      ]
    },
    {
      "cell_type": "code",
      "execution_count": null,
      "metadata": {
        "colab": {
          "base_uri": "https://localhost:8080/"
        },
        "id": "MsIHscN_JoOK",
        "outputId": "e7fc3029-2ba8-439c-d77a-e83691da2d06",
        "vscode": {
          "languageId": "python"
        }
      },
      "outputs": [
        {
          "name": "stdout",
          "output_type": "stream",
          "text": [
            "Mounted at drive\n"
          ]
        },
        {
          "name": "stderr",
          "output_type": "stream",
          "text": [
            "/usr/local/lib/python3.6/dist-packages/statsmodels/tools/_testing.py:19: FutureWarning: pandas.util.testing is deprecated. Use the functions in the public API at pandas.testing instead.\n",
            "  import pandas.util.testing as tm\n"
          ]
        }
      ],
      "source": [
        "from datetime import datetime as dt\n",
        "\n",
        "from google.colab import drive\n",
        "drive.mount('drive', force_remount=True)\n",
        "\n",
        "import pytz\n",
        "import numpy as np\n",
        "import pandas as pd\n",
        "import matplotlib.pyplot as plt\n",
        "import pvlib\n",
        "from geopy.geocoders import Nominatim\n",
        "import glob\n",
        "import os\n",
        "import json\n",
        "import requests\n",
        "import scipy.stats as sp\n",
        "from sklearn.linear_model import LinearRegression\n",
        "import statsmodels.api as sm \n"
      ]
    },
    {
      "cell_type": "markdown",
      "metadata": {
        "id": "Pyd1-AT5KEkp"
      },
      "source": [
        "We'll be using the inherent data from renewables ninja (index-based, unfortunately) to automate almost every relevant fact to solpos. This uses geopy to reverse-lookup the location from its (lat, long) coordinates given in the renewables ninja data.\n",
        "\n",
        "Temperature will be averaged from temperature data later."
      ]
    },
    {
      "cell_type": "code",
      "execution_count": null,
      "metadata": {
        "id": "ypYpmWluKibm",
        "vscode": {
          "languageId": "python"
        }
      },
      "outputs": [],
      "source": [
        "#default data\n",
        "altitude = 100\n",
        "tz = \"UTC\"\n",
        "temperature = 12\n"
      ]
    },
    {
      "cell_type": "code",
      "execution_count": null,
      "metadata": {
        "id": "QOPJKafJcJTT",
        "vscode": {
          "languageId": "python"
        }
      },
      "outputs": [],
      "source": [
        "#trying to import multiple Renewables Ninja data files into one dataframe\n",
        "\n",
        "\n",
        "folder = '/content/drive/MyDrive/KT data' \n",
        "\n",
        "all_files = glob.glob(os.path.join(folder, '*.csv'))\n",
        "\n",
        "li = {}\n",
        "names = []\n",
        "lat_data = []\n",
        "long_data = []\n",
        "for filename in all_files:\n",
        "  \n",
        "  #extracting relevant information from original RN file\n",
        "  paraminfo = pd.read_csv(filename, header=2,index_col=0, parse_dates=True)\n",
        "  latitude = round(float(list(paraminfo)[5][9:16]), 3)\n",
        "  longitude = round(float(list(paraminfo)[6][9:16]), 3)\n",
        "  #using lat/long data and geopy to lookup city by name\n",
        "  geolocator = Nominatim(user_agent=\"geoapiExercises\")\n",
        "  try:\n",
        "    city = geolocator.reverse(str(latitude)+\",\"+str(longitude)).raw['address']['city']\n",
        "  except KeyError:\n",
        "    city = \"(\"+str(latitude)+\",\"+str(longitude)+\")\"\n",
        "\n",
        "  #listing relevant dataset\n",
        "  dataset = list(paraminfo)[9].replace(\"\"\" \"dataset\": \"\"\"\"\", \"\")  #can I get out quotes?\n",
        "\n",
        "  # import altitude data (will take a while): get_altitude(latitude, longitude)\n",
        "\n",
        "  #time info from file\n",
        "  df = pd.read_csv(filename, header=3,index_col=0, parse_dates=True)\n",
        "  endyr = pd.DatetimeIndex(df.index).year[-1]\n",
        "  startyr = pd.DatetimeIndex(df.index).year[0]\n",
        "  #In case data spans multiple years\n",
        "  if startyr == endyr:\n",
        "    years = str(startyr)\n",
        "  elif startyr < endyr:\n",
        "    years = str(startyr) + '-' + str(endyr)\n",
        "  else:\n",
        "    years = str(startyr) +'?' + str(endyr)\n",
        "  #elimniating extra 'Unnamed' columns\n",
        "  for i in df.columns:\n",
        "    if i[:2] == 'Un':\n",
        "      df = df.drop([i], axis=1)\n",
        "  # using file info to create index\n",
        "  title = city + \" \" + years\n",
        "  df.title = title\n",
        "  df.latitude = latitude\n",
        "  df.longitude = longitude\n",
        "  li[title] = df\n"
      ]
    },
    {
      "cell_type": "code",
      "execution_count": null,
      "metadata": {
        "colab": {
          "base_uri": "https://localhost:8080/",
          "height": 478
        },
        "id": "Z4AB6hgXAzzB",
        "outputId": "c2dd18e5-d109-467f-cbab-689b440eb02e",
        "vscode": {
          "languageId": "python"
        }
      },
      "outputs": [
        {
          "name": "stdout",
          "output_type": "stream",
          "text": [
            "['/content/drive/MyDrive/KT data/NREL NSRDB Data/1338691_42.33_-71.10_1999.csv', '/content/drive/MyDrive/KT data/NREL NSRDB Data/1338691_42.33_-71.10_1998.csv', '/content/drive/MyDrive/KT data/NREL NSRDB Data/1338709_42.37_-71.10_2015.csv', '/content/drive/MyDrive/KT data/NREL NSRDB Data/1338691_42.33_-71.10_2018.csv', '/content/drive/MyDrive/KT data/NREL NSRDB Data/1338691_42.33_-71.10_2019.csv', '/content/drive/MyDrive/KT data/NREL NSRDB Data/1338709_42.37_-71.10_2005.csv', '/content/drive/MyDrive/KT data/NREL NSRDB Data/1338709_42.37_-71.10_2002.csv', '/content/drive/MyDrive/KT data/NREL NSRDB Data/1338709_42.37_-71.10_2012.csv', '/content/drive/MyDrive/KT data/NREL NSRDB Data/1338691_42.33_-71.10_2001.csv', '/content/drive/MyDrive/KT data/NREL NSRDB Data/1338691_42.33_-71.10_2012.csv', '/content/drive/MyDrive/KT data/NREL NSRDB Data/1338709_42.37_-71.10_2007.csv', '/content/drive/MyDrive/KT data/NREL NSRDB Data/1338691_42.33_-71.10_2010.csv', '/content/drive/MyDrive/KT data/NREL NSRDB Data/1338709_42.37_-71.10_2010.csv', '/content/drive/MyDrive/KT data/NREL NSRDB Data/1338691_42.33_-71.10_2006.csv', '/content/drive/MyDrive/KT data/NREL NSRDB Data/1338709_42.37_-71.10_2013.csv', '/content/drive/MyDrive/KT data/NREL NSRDB Data/1338709_42.37_-71.10_2006.csv', '/content/drive/MyDrive/KT data/NREL NSRDB Data/1338691_42.33_-71.10_2003.csv', '/content/drive/MyDrive/KT data/NREL NSRDB Data/1338709_42.37_-71.10_2016.csv', '/content/drive/MyDrive/KT data/NREL NSRDB Data/1338691_42.33_-71.10_2017.csv', '/content/drive/MyDrive/KT data/NREL NSRDB Data/1338709_42.37_-71.10_2004.csv', '/content/drive/MyDrive/KT data/NREL NSRDB Data/1338709_42.37_-71.10_1998.csv', '/content/drive/MyDrive/KT data/NREL NSRDB Data/1338691_42.33_-71.10_2014.csv', '/content/drive/MyDrive/KT data/NREL NSRDB Data/1338709_42.37_-71.10_2014.csv', '/content/drive/MyDrive/KT data/NREL NSRDB Data/1338691_42.33_-71.10_2008.csv', '/content/drive/MyDrive/KT data/NREL NSRDB Data/1338709_42.37_-71.10_2008.csv', '/content/drive/MyDrive/KT data/NREL NSRDB Data/1338691_42.33_-71.10_2011.csv', '/content/drive/MyDrive/KT data/NREL NSRDB Data/1338709_42.37_-71.10_2011.csv', '/content/drive/MyDrive/KT data/NREL NSRDB Data/1338691_42.33_-71.10_2013.csv', '/content/drive/MyDrive/KT data/NREL NSRDB Data/1338709_42.37_-71.10_2003.csv', '/content/drive/MyDrive/KT data/NREL NSRDB Data/1338709_42.37_-71.10_1999.csv', '/content/drive/MyDrive/KT data/NREL NSRDB Data/1338709_42.37_-71.10_2017.csv', '/content/drive/MyDrive/KT data/NREL NSRDB Data/1338691_42.33_-71.10_2004.csv', '/content/drive/MyDrive/KT data/NREL NSRDB Data/1338691_42.33_-71.10_2007.csv', '/content/drive/MyDrive/KT data/NREL NSRDB Data/1338691_42.33_-71.10_2000.csv', '/content/drive/MyDrive/KT data/NREL NSRDB Data/1338709_42.37_-71.10_2000.csv', '/content/drive/MyDrive/KT data/NREL NSRDB Data/1338691_42.33_-71.10_2015.csv', '/content/drive/MyDrive/KT data/NREL NSRDB Data/1338691_42.33_-71.10_2002.csv', '/content/drive/MyDrive/KT data/NREL NSRDB Data/1338709_42.37_-71.10_2009.csv', '/content/drive/MyDrive/KT data/NREL NSRDB Data/1338709_42.37_-71.10_2001.csv', '/content/drive/MyDrive/KT data/NREL NSRDB Data/1338691_42.33_-71.10_2009.csv', '/content/drive/MyDrive/KT data/NREL NSRDB Data/1338691_42.33_-71.10_2016.csv', '/content/drive/MyDrive/KT data/NREL NSRDB Data/1338691_42.33_-71.10_2005.csv', '/content/drive/MyDrive/KT data/NREL NSRDB Data/1338734_42.41_-71.10_2002.csv', '/content/drive/MyDrive/KT data/NREL NSRDB Data/1338709_42.37_-71.10_2018.csv', '/content/drive/MyDrive/KT data/NREL NSRDB Data/1338734_42.41_-71.10_2013.csv', '/content/drive/MyDrive/KT data/NREL NSRDB Data/1338734_42.41_-71.10_2012.csv', '/content/drive/MyDrive/KT data/NREL NSRDB Data/1338734_42.41_-71.10_2016.csv', '/content/drive/MyDrive/KT data/NREL NSRDB Data/1338734_42.41_-71.10_2007.csv', '/content/drive/MyDrive/KT data/NREL NSRDB Data/1338734_42.41_-71.10_2005.csv', '/content/drive/MyDrive/KT data/NREL NSRDB Data/1338734_42.41_-71.10_2011.csv', '/content/drive/MyDrive/KT data/NREL NSRDB Data/1340168_42.33_-71.06_2008.csv', '/content/drive/MyDrive/KT data/NREL NSRDB Data/1340168_42.33_-71.06_2005.csv', '/content/drive/MyDrive/KT data/NREL NSRDB Data/1338734_42.41_-71.10_2019.csv', '/content/drive/MyDrive/KT data/NREL NSRDB Data/1340168_42.33_-71.06_2009.csv', '/content/drive/MyDrive/KT data/NREL NSRDB Data/1340168_42.33_-71.06_2000.csv', '/content/drive/MyDrive/KT data/NREL NSRDB Data/1338734_42.41_-71.10_2000.csv', '/content/drive/MyDrive/KT data/NREL NSRDB Data/1338734_42.41_-71.10_2004.csv', '/content/drive/MyDrive/KT data/NREL NSRDB Data/1338734_42.41_-71.10_1998.csv', '/content/drive/MyDrive/KT data/NREL NSRDB Data/1338734_42.41_-71.10_2018.csv', '/content/drive/MyDrive/KT data/NREL NSRDB Data/1340168_42.33_-71.06_2011.csv', '/content/drive/MyDrive/KT data/NREL NSRDB Data/1340168_42.33_-71.06_2003.csv', '/content/drive/MyDrive/KT data/NREL NSRDB Data/1340168_42.33_-71.06_2012.csv', '/content/drive/MyDrive/KT data/NREL NSRDB Data/1340168_42.33_-71.06_2007.csv', '/content/drive/MyDrive/KT data/NREL NSRDB Data/1338734_42.41_-71.10_2014.csv', '/content/drive/MyDrive/KT data/NREL NSRDB Data/1338734_42.41_-71.10_2001.csv', '/content/drive/MyDrive/KT data/NREL NSRDB Data/1340168_42.33_-71.06_2002.csv', '/content/drive/MyDrive/KT data/NREL NSRDB Data/1340168_42.33_-71.06_2001.csv', '/content/drive/MyDrive/KT data/NREL NSRDB Data/1338709_42.37_-71.10_2019.csv', '/content/drive/MyDrive/KT data/NREL NSRDB Data/1338734_42.41_-71.10_2010.csv', '/content/drive/MyDrive/KT data/NREL NSRDB Data/1340168_42.33_-71.06_2006.csv', '/content/drive/MyDrive/KT data/NREL NSRDB Data/1338734_42.41_-71.10_2008.csv', '/content/drive/MyDrive/KT data/NREL NSRDB Data/1340168_42.33_-71.06_2010.csv', '/content/drive/MyDrive/KT data/NREL NSRDB Data/1340168_42.33_-71.06_2004.csv', '/content/drive/MyDrive/KT data/NREL NSRDB Data/1338734_42.41_-71.10_2015.csv', '/content/drive/MyDrive/KT data/NREL NSRDB Data/1338734_42.41_-71.10_2003.csv', '/content/drive/MyDrive/KT data/NREL NSRDB Data/1340168_42.33_-71.06_1998.csv', '/content/drive/MyDrive/KT data/NREL NSRDB Data/1338734_42.41_-71.10_2006.csv', '/content/drive/MyDrive/KT data/NREL NSRDB Data/1338734_42.41_-71.10_2009.csv', '/content/drive/MyDrive/KT data/NREL NSRDB Data/1338734_42.41_-71.10_1999.csv', '/content/drive/MyDrive/KT data/NREL NSRDB Data/1338734_42.41_-71.10_2017.csv', '/content/drive/MyDrive/KT data/NREL NSRDB Data/1340220_42.41_-71.06_2010.csv', '/content/drive/MyDrive/KT data/NREL NSRDB Data/1340220_42.41_-71.06_2007.csv', '/content/drive/MyDrive/KT data/NREL NSRDB Data/1340220_42.41_-71.06_2004.csv', '/content/drive/MyDrive/KT data/NREL NSRDB Data/1340489_42.37_-71.06_1999.csv', '/content/drive/MyDrive/KT data/NREL NSRDB Data/1340489_42.37_-71.06_2001.csv', '/content/drive/MyDrive/KT data/NREL NSRDB Data/1340220_42.41_-71.06_2015.csv', '/content/drive/MyDrive/KT data/NREL NSRDB Data/1340220_42.41_-71.06_2003.csv', '/content/drive/MyDrive/KT data/NREL NSRDB Data/1340489_42.37_-71.06_2008.csv', '/content/drive/MyDrive/KT data/NREL NSRDB Data/1340489_42.37_-71.06_2000.csv', '/content/drive/MyDrive/KT data/NREL NSRDB Data/1340168_42.33_-71.06_2019.csv', '/content/drive/MyDrive/KT data/NREL NSRDB Data/1340220_42.41_-71.06_2018.csv', '/content/drive/MyDrive/KT data/NREL NSRDB Data/1340168_42.33_-71.06_2015.csv', '/content/drive/MyDrive/KT data/NREL NSRDB Data/1340220_42.41_-71.06_2002.csv', '/content/drive/MyDrive/KT data/NREL NSRDB Data/1340168_42.33_-71.06_2018.csv', '/content/drive/MyDrive/KT data/NREL NSRDB Data/1340489_42.37_-71.06_2007.csv', '/content/drive/MyDrive/KT data/NREL NSRDB Data/1340489_42.37_-71.06_2004.csv', '/content/drive/MyDrive/KT data/NREL NSRDB Data/1340168_42.33_-71.06_2013.csv', '/content/drive/MyDrive/KT data/NREL NSRDB Data/1340220_42.41_-71.06_2013.csv', '/content/drive/MyDrive/KT data/NREL NSRDB Data/1340489_42.37_-71.06_2005.csv', '/content/drive/MyDrive/KT data/NREL NSRDB Data/1340220_42.41_-71.06_2011.csv', '/content/drive/MyDrive/KT data/NREL NSRDB Data/1340489_42.37_-71.06_2003.csv', '/content/drive/MyDrive/KT data/NREL NSRDB Data/1340220_42.41_-71.06_2009.csv', '/content/drive/MyDrive/KT data/NREL NSRDB Data/1340168_42.33_-71.06_2017.csv', '/content/drive/MyDrive/KT data/NREL NSRDB Data/1340220_42.41_-71.06_2001.csv', '/content/drive/MyDrive/KT data/NREL NSRDB Data/1340168_42.33_-71.06_2016.csv', '/content/drive/MyDrive/KT data/NREL NSRDB Data/1340220_42.41_-71.06_2005.csv', '/content/drive/MyDrive/KT data/NREL NSRDB Data/1340220_42.41_-71.06_2000.csv', '/content/drive/MyDrive/KT data/NREL NSRDB Data/1340220_42.41_-71.06_2014.csv', '/content/drive/MyDrive/KT data/NREL NSRDB Data/1340489_42.37_-71.06_2002.csv', '/content/drive/MyDrive/KT data/NREL NSRDB Data/1340220_42.41_-71.06_2006.csv', '/content/drive/MyDrive/KT data/NREL NSRDB Data/1340168_42.33_-71.06_2014.csv', '/content/drive/MyDrive/KT data/NREL NSRDB Data/1340220_42.41_-71.06_2016.csv', '/content/drive/MyDrive/KT data/NREL NSRDB Data/1340220_42.41_-71.06_1999.csv', '/content/drive/MyDrive/KT data/NREL NSRDB Data/1340220_42.41_-71.06_2019.csv', '/content/drive/MyDrive/KT data/NREL NSRDB Data/1340220_42.41_-71.06_2012.csv', '/content/drive/MyDrive/KT data/NREL NSRDB Data/1340220_42.41_-71.06_2017.csv', '/content/drive/MyDrive/KT data/NREL NSRDB Data/1340220_42.41_-71.06_1998.csv', '/content/drive/MyDrive/KT data/NREL NSRDB Data/1340489_42.37_-71.06_2009.csv', '/content/drive/MyDrive/KT data/NREL NSRDB Data/1340489_42.37_-71.06_1998.csv', '/content/drive/MyDrive/KT data/NREL NSRDB Data/1340220_42.41_-71.06_2008.csv', '/content/drive/MyDrive/KT data/NREL NSRDB Data/1340489_42.37_-71.06_2006.csv', '/content/drive/MyDrive/KT data/NREL NSRDB Data/1340803_42.33_-71.02_2004.csv', '/content/drive/MyDrive/KT data/NREL NSRDB Data/1340489_42.37_-71.06_2011.csv', '/content/drive/MyDrive/KT data/NREL NSRDB Data/1340803_42.33_-71.02_2016.csv', '/content/drive/MyDrive/KT data/NREL NSRDB Data/1340866_42.41_-71.02_2000.csv', '/content/drive/MyDrive/KT data/NREL NSRDB Data/1340803_42.33_-71.02_2000.csv', '/content/drive/MyDrive/KT data/NREL NSRDB Data/1340803_42.33_-71.02_2009.csv', '/content/drive/MyDrive/KT data/NREL NSRDB Data/1340489_42.37_-71.06_2016.csv', '/content/drive/MyDrive/KT data/NREL NSRDB Data/1340803_42.33_-71.02_2017.csv', '/content/drive/MyDrive/KT data/NREL NSRDB Data/1340803_42.33_-71.02_2013.csv', '/content/drive/MyDrive/KT data/NREL NSRDB Data/1340866_42.41_-71.02_1999.csv', '/content/drive/MyDrive/KT data/NREL NSRDB Data/1340866_42.41_-71.02_2004.csv', '/content/drive/MyDrive/KT data/NREL NSRDB Data/1340489_42.37_-71.06_2015.csv', '/content/drive/MyDrive/KT data/NREL NSRDB Data/1340489_42.37_-71.06_2018.csv', '/content/drive/MyDrive/KT data/NREL NSRDB Data/1340803_42.33_-71.02_1999.csv', '/content/drive/MyDrive/KT data/NREL NSRDB Data/1340803_42.33_-71.02_2012.csv', '/content/drive/MyDrive/KT data/NREL NSRDB Data/1340803_42.33_-71.02_2006.csv', '/content/drive/MyDrive/KT data/NREL NSRDB Data/1340803_42.33_-71.02_2014.csv', '/content/drive/MyDrive/KT data/NREL NSRDB Data/1340803_42.33_-71.02_2005.csv', '/content/drive/MyDrive/KT data/NREL NSRDB Data/1340866_42.41_-71.02_1998.csv', '/content/drive/MyDrive/KT data/NREL NSRDB Data/1340489_42.37_-71.06_2017.csv', '/content/drive/MyDrive/KT data/NREL NSRDB Data/1340803_42.33_-71.02_2015.csv', '/content/drive/MyDrive/KT data/NREL NSRDB Data/1340866_42.41_-71.02_2005.csv', '/content/drive/MyDrive/KT data/NREL NSRDB Data/1340866_42.41_-71.02_2001.csv', '/content/drive/MyDrive/KT data/NREL NSRDB Data/1340866_42.41_-71.02_2002.csv', '/content/drive/MyDrive/KT data/NREL NSRDB Data/1340803_42.33_-71.02_2001.csv', '/content/drive/MyDrive/KT data/NREL NSRDB Data/1340489_42.37_-71.06_2013.csv', '/content/drive/MyDrive/KT data/NREL NSRDB Data/1340803_42.33_-71.02_2010.csv', '/content/drive/MyDrive/KT data/NREL NSRDB Data/1340489_42.37_-71.06_2010.csv', '/content/drive/MyDrive/KT data/NREL NSRDB Data/1340866_42.41_-71.02_2003.csv', '/content/drive/MyDrive/KT data/NREL NSRDB Data/1340803_42.33_-71.02_2011.csv', '/content/drive/MyDrive/KT data/NREL NSRDB Data/1340489_42.37_-71.06_2019.csv', '/content/drive/MyDrive/KT data/NREL NSRDB Data/1340803_42.33_-71.02_2008.csv', '/content/drive/MyDrive/KT data/NREL NSRDB Data/1340803_42.33_-71.02_2019.csv', '/content/drive/MyDrive/KT data/NREL NSRDB Data/1340803_42.33_-71.02_2003.csv', '/content/drive/MyDrive/KT data/NREL NSRDB Data/1340489_42.37_-71.06_2014.csv', '/content/drive/MyDrive/KT data/NREL NSRDB Data/1340803_42.33_-71.02_2007.csv', '/content/drive/MyDrive/KT data/NREL NSRDB Data/1340489_42.37_-71.06_2012.csv', '/content/drive/MyDrive/KT data/NREL NSRDB Data/1340803_42.33_-71.02_2002.csv', '/content/drive/MyDrive/KT data/NREL NSRDB Data/1340803_42.33_-71.02_2018.csv', '/content/drive/MyDrive/KT data/NREL NSRDB Data/1340803_42.33_-71.02_1998.csv', '/content/drive/MyDrive/KT data/NREL NSRDB Data/1340875_42.37_-71.02_1998.csv', '/content/drive/MyDrive/KT data/NREL NSRDB Data/1340875_42.37_-71.02_2014.csv', '/content/drive/MyDrive/KT data/NREL NSRDB Data/1340866_42.41_-71.02_2007.csv', '/content/drive/MyDrive/KT data/NREL NSRDB Data/1340875_42.37_-71.02_2011.csv', '/content/drive/MyDrive/KT data/NREL NSRDB Data/1340875_42.37_-71.02_2009.csv', '/content/drive/MyDrive/KT data/NREL NSRDB Data/1340875_42.37_-71.02_2013.csv', '/content/drive/MyDrive/KT data/NREL NSRDB Data/1340875_42.37_-71.02_2007.csv', '/content/drive/MyDrive/KT data/NREL NSRDB Data/1340866_42.41_-71.02_2010.csv', '/content/drive/MyDrive/KT data/NREL NSRDB Data/1340866_42.41_-71.02_2019.csv', '/content/drive/MyDrive/KT data/NREL NSRDB Data/1340866_42.41_-71.02_2009.csv', '/content/drive/MyDrive/KT data/NREL NSRDB Data/1340875_42.37_-71.02_2012.csv', '/content/drive/MyDrive/KT data/NREL NSRDB Data/1340875_42.37_-71.02_2017.csv', '/content/drive/MyDrive/KT data/NREL NSRDB Data/1340875_42.37_-71.02_2002.csv', '/content/drive/MyDrive/KT data/NREL NSRDB Data/1340875_42.37_-71.02_2019.csv', '/content/drive/MyDrive/KT data/NREL NSRDB Data/1340875_42.37_-71.02_2010.csv', '/content/drive/MyDrive/KT data/NREL NSRDB Data/1340866_42.41_-71.02_2018.csv', '/content/drive/MyDrive/KT data/NREL NSRDB Data/1340875_42.37_-71.02_2004.csv', '/content/drive/MyDrive/KT data/NREL NSRDB Data/1340866_42.41_-71.02_2017.csv', '/content/drive/MyDrive/KT data/NREL NSRDB Data/1340875_42.37_-71.02_2003.csv', '/content/drive/MyDrive/KT data/NREL NSRDB Data/1340875_42.37_-71.02_2001.csv', '/content/drive/MyDrive/KT data/NREL NSRDB Data/1340866_42.41_-71.02_2008.csv', '/content/drive/MyDrive/KT data/NREL NSRDB Data/1340866_42.41_-71.02_2012.csv', '/content/drive/MyDrive/KT data/NREL NSRDB Data/1340875_42.37_-71.02_2008.csv', '/content/drive/MyDrive/KT data/NREL NSRDB Data/1340875_42.37_-71.02_2018.csv', '/content/drive/MyDrive/KT data/NREL NSRDB Data/1340875_42.37_-71.02_2015.csv', '/content/drive/MyDrive/KT data/NREL NSRDB Data/1340875_42.37_-71.02_2005.csv', '/content/drive/MyDrive/KT data/NREL NSRDB Data/1340866_42.41_-71.02_2006.csv', '/content/drive/MyDrive/KT data/NREL NSRDB Data/1340875_42.37_-71.02_2000.csv', '/content/drive/MyDrive/KT data/NREL NSRDB Data/1340866_42.41_-71.02_2011.csv', '/content/drive/MyDrive/KT data/NREL NSRDB Data/1340875_42.37_-71.02_2016.csv', '/content/drive/MyDrive/KT data/NREL NSRDB Data/1340866_42.41_-71.02_2013.csv', '/content/drive/MyDrive/KT data/NREL NSRDB Data/1340866_42.41_-71.02_2016.csv', '/content/drive/MyDrive/KT data/NREL NSRDB Data/1340875_42.37_-71.02_2006.csv', '/content/drive/MyDrive/KT data/NREL NSRDB Data/1340866_42.41_-71.02_2015.csv', '/content/drive/MyDrive/KT data/NREL NSRDB Data/1340866_42.41_-71.02_2014.csv', '/content/drive/MyDrive/KT data/NREL NSRDB Data/1340168_42.33_-71.06_1999.csv', '/content/drive/MyDrive/KT data/NREL NSRDB Data/1340875_42.37_-71.02_1999.csv']\n"
          ]
        },
        {
          "name": "stderr",
          "output_type": "stream",
          "text": [
            "/usr/local/lib/python3.6/dist-packages/IPython/core/interactiveshell.py:2718: DtypeWarning: Columns (1,2,3,4,5,6,7,8,9,10,11,12,13,14,15,16,17,18,19,20,21,22,23,25,26,27,28,29,30,31,32,33,34,35,36,37,39,40,41,42,43,45) have mixed types.Specify dtype option on import or set low_memory=False.\n",
            "  interactivity=interactivity, compiler=compiler, result=result)\n"
          ]
        },
        {
          "ename": "ValueError",
          "evalue": "ignored",
          "output_type": "error",
          "traceback": [
            "\u001b[0;31m---------------------------------------------------------------------------\u001b[0m",
            "\u001b[0;31mValueError\u001b[0m                                Traceback (most recent call last)",
            "\u001b[0;32m<ipython-input-23-d8817d6cde08>\u001b[0m in \u001b[0;36m<module>\u001b[0;34m()\u001b[0m\n\u001b[1;32m     17\u001b[0m   \u001b[0mdf\u001b[0m\u001b[0;34m.\u001b[0m\u001b[0mlatitude\u001b[0m \u001b[0;34m=\u001b[0m \u001b[0mparaminfo\u001b[0m\u001b[0;34m[\u001b[0m\u001b[0;34m'Latitude'\u001b[0m\u001b[0;34m]\u001b[0m\u001b[0;34m[\u001b[0m\u001b[0;36m0\u001b[0m\u001b[0;34m]\u001b[0m\u001b[0;34m\u001b[0m\u001b[0;34m\u001b[0m\u001b[0m\n\u001b[1;32m     18\u001b[0m   \u001b[0mdf\u001b[0m\u001b[0;34m.\u001b[0m\u001b[0mlongitude\u001b[0m \u001b[0;34m=\u001b[0m \u001b[0mparaminfo\u001b[0m\u001b[0;34m[\u001b[0m\u001b[0;34m'Longitude'\u001b[0m\u001b[0;34m]\u001b[0m\u001b[0;34m[\u001b[0m\u001b[0;36m0\u001b[0m\u001b[0;34m]\u001b[0m\u001b[0;34m\u001b[0m\u001b[0;34m\u001b[0m\u001b[0m\n\u001b[0;32m---> 19\u001b[0;31m   \u001b[0mdf\u001b[0m\u001b[0;34m[\u001b[0m\u001b[0;34m'date'\u001b[0m\u001b[0;34m]\u001b[0m \u001b[0;34m=\u001b[0m \u001b[0mstr\u001b[0m\u001b[0;34m(\u001b[0m\u001b[0mdf\u001b[0m\u001b[0;34m[\u001b[0m\u001b[0;34m'Year'\u001b[0m\u001b[0;34m]\u001b[0m \u001b[0;34m+\u001b[0m \u001b[0;34m'-'\u001b[0m \u001b[0;34m+\u001b[0m \u001b[0mdf\u001b[0m\u001b[0;34m[\u001b[0m\u001b[0;34m'Month'\u001b[0m\u001b[0;34m]\u001b[0m \u001b[0;34m+\u001b[0m \u001b[0;34m'-'\u001b[0m \u001b[0;34m+\u001b[0m \u001b[0mdf\u001b[0m\u001b[0;34m[\u001b[0m\u001b[0;34m'Day'\u001b[0m\u001b[0;34m]\u001b[0m \u001b[0;34m+\u001b[0m \u001b[0;34m\" \"\u001b[0m \u001b[0;34m+\u001b[0m \u001b[0mdf\u001b[0m\u001b[0;34m[\u001b[0m\u001b[0;34m'Hour'\u001b[0m\u001b[0;34m]\u001b[0m \u001b[0;34m+\u001b[0m \u001b[0;34m\":\"\u001b[0m \u001b[0;34m+\u001b[0m \u001b[0mdf\u001b[0m\u001b[0;34m[\u001b[0m\u001b[0;34m'Minute'\u001b[0m\u001b[0;34m]\u001b[0m\u001b[0;34m)\u001b[0m\u001b[0;34m\u001b[0m\u001b[0;34m\u001b[0m\u001b[0m\n\u001b[0m\u001b[1;32m     20\u001b[0m   \u001b[0mprint\u001b[0m\u001b[0;34m(\u001b[0m\u001b[0mdf\u001b[0m\u001b[0;34m)\u001b[0m\u001b[0;34m\u001b[0m\u001b[0;34m\u001b[0m\u001b[0m\n",
            "\u001b[0;32m/usr/local/lib/python3.6/dist-packages/pandas/core/ops/common.py\u001b[0m in \u001b[0;36mnew_method\u001b[0;34m(self, other)\u001b[0m\n\u001b[1;32m     63\u001b[0m         \u001b[0mother\u001b[0m \u001b[0;34m=\u001b[0m \u001b[0mitem_from_zerodim\u001b[0m\u001b[0;34m(\u001b[0m\u001b[0mother\u001b[0m\u001b[0;34m)\u001b[0m\u001b[0;34m\u001b[0m\u001b[0;34m\u001b[0m\u001b[0m\n\u001b[1;32m     64\u001b[0m \u001b[0;34m\u001b[0m\u001b[0m\n\u001b[0;32m---> 65\u001b[0;31m         \u001b[0;32mreturn\u001b[0m \u001b[0mmethod\u001b[0m\u001b[0;34m(\u001b[0m\u001b[0mself\u001b[0m\u001b[0;34m,\u001b[0m \u001b[0mother\u001b[0m\u001b[0;34m)\u001b[0m\u001b[0;34m\u001b[0m\u001b[0;34m\u001b[0m\u001b[0m\n\u001b[0m\u001b[1;32m     66\u001b[0m \u001b[0;34m\u001b[0m\u001b[0m\n\u001b[1;32m     67\u001b[0m     \u001b[0;32mreturn\u001b[0m \u001b[0mnew_method\u001b[0m\u001b[0;34m\u001b[0m\u001b[0;34m\u001b[0m\u001b[0m\n",
            "\u001b[0;32m/usr/local/lib/python3.6/dist-packages/pandas/core/ops/__init__.py\u001b[0m in \u001b[0;36mwrapper\u001b[0;34m(left, right)\u001b[0m\n\u001b[1;32m    341\u001b[0m         \u001b[0mlvalues\u001b[0m \u001b[0;34m=\u001b[0m \u001b[0mextract_array\u001b[0m\u001b[0;34m(\u001b[0m\u001b[0mleft\u001b[0m\u001b[0;34m,\u001b[0m \u001b[0mextract_numpy\u001b[0m\u001b[0;34m=\u001b[0m\u001b[0;32mTrue\u001b[0m\u001b[0;34m)\u001b[0m\u001b[0;34m\u001b[0m\u001b[0;34m\u001b[0m\u001b[0m\n\u001b[1;32m    342\u001b[0m         \u001b[0mrvalues\u001b[0m \u001b[0;34m=\u001b[0m \u001b[0mextract_array\u001b[0m\u001b[0;34m(\u001b[0m\u001b[0mright\u001b[0m\u001b[0;34m,\u001b[0m \u001b[0mextract_numpy\u001b[0m\u001b[0;34m=\u001b[0m\u001b[0;32mTrue\u001b[0m\u001b[0;34m)\u001b[0m\u001b[0;34m\u001b[0m\u001b[0;34m\u001b[0m\u001b[0m\n\u001b[0;32m--> 343\u001b[0;31m         \u001b[0mresult\u001b[0m \u001b[0;34m=\u001b[0m \u001b[0marithmetic_op\u001b[0m\u001b[0;34m(\u001b[0m\u001b[0mlvalues\u001b[0m\u001b[0;34m,\u001b[0m \u001b[0mrvalues\u001b[0m\u001b[0;34m,\u001b[0m \u001b[0mop\u001b[0m\u001b[0;34m)\u001b[0m\u001b[0;34m\u001b[0m\u001b[0;34m\u001b[0m\u001b[0m\n\u001b[0m\u001b[1;32m    344\u001b[0m \u001b[0;34m\u001b[0m\u001b[0m\n\u001b[1;32m    345\u001b[0m         \u001b[0;32mreturn\u001b[0m \u001b[0mleft\u001b[0m\u001b[0;34m.\u001b[0m\u001b[0m_construct_result\u001b[0m\u001b[0;34m(\u001b[0m\u001b[0mresult\u001b[0m\u001b[0;34m,\u001b[0m \u001b[0mname\u001b[0m\u001b[0;34m=\u001b[0m\u001b[0mres_name\u001b[0m\u001b[0;34m)\u001b[0m\u001b[0;34m\u001b[0m\u001b[0;34m\u001b[0m\u001b[0m\n",
            "\u001b[0;32m/usr/local/lib/python3.6/dist-packages/pandas/core/ops/array_ops.py\u001b[0m in \u001b[0;36marithmetic_op\u001b[0;34m(left, right, op)\u001b[0m\n\u001b[1;32m    188\u001b[0m     \u001b[0;32melse\u001b[0m\u001b[0;34m:\u001b[0m\u001b[0;34m\u001b[0m\u001b[0;34m\u001b[0m\u001b[0m\n\u001b[1;32m    189\u001b[0m         \u001b[0;32mwith\u001b[0m \u001b[0mnp\u001b[0m\u001b[0;34m.\u001b[0m\u001b[0merrstate\u001b[0m\u001b[0;34m(\u001b[0m\u001b[0mall\u001b[0m\u001b[0;34m=\u001b[0m\u001b[0;34m\"ignore\"\u001b[0m\u001b[0;34m)\u001b[0m\u001b[0;34m:\u001b[0m\u001b[0;34m\u001b[0m\u001b[0;34m\u001b[0m\u001b[0m\n\u001b[0;32m--> 190\u001b[0;31m             \u001b[0mres_values\u001b[0m \u001b[0;34m=\u001b[0m \u001b[0mna_arithmetic_op\u001b[0m\u001b[0;34m(\u001b[0m\u001b[0mlvalues\u001b[0m\u001b[0;34m,\u001b[0m \u001b[0mrvalues\u001b[0m\u001b[0;34m,\u001b[0m \u001b[0mop\u001b[0m\u001b[0;34m)\u001b[0m\u001b[0;34m\u001b[0m\u001b[0;34m\u001b[0m\u001b[0m\n\u001b[0m\u001b[1;32m    191\u001b[0m \u001b[0;34m\u001b[0m\u001b[0m\n\u001b[1;32m    192\u001b[0m     \u001b[0;32mreturn\u001b[0m \u001b[0mres_values\u001b[0m\u001b[0;34m\u001b[0m\u001b[0;34m\u001b[0m\u001b[0m\n",
            "\u001b[0;32m/usr/local/lib/python3.6/dist-packages/pandas/core/ops/array_ops.py\u001b[0m in \u001b[0;36mna_arithmetic_op\u001b[0;34m(left, right, op, is_cmp)\u001b[0m\n\u001b[1;32m    141\u001b[0m \u001b[0;34m\u001b[0m\u001b[0m\n\u001b[1;32m    142\u001b[0m     \u001b[0;32mtry\u001b[0m\u001b[0;34m:\u001b[0m\u001b[0;34m\u001b[0m\u001b[0;34m\u001b[0m\u001b[0m\n\u001b[0;32m--> 143\u001b[0;31m         \u001b[0mresult\u001b[0m \u001b[0;34m=\u001b[0m \u001b[0mexpressions\u001b[0m\u001b[0;34m.\u001b[0m\u001b[0mevaluate\u001b[0m\u001b[0;34m(\u001b[0m\u001b[0mop\u001b[0m\u001b[0;34m,\u001b[0m \u001b[0mleft\u001b[0m\u001b[0;34m,\u001b[0m \u001b[0mright\u001b[0m\u001b[0;34m)\u001b[0m\u001b[0;34m\u001b[0m\u001b[0;34m\u001b[0m\u001b[0m\n\u001b[0m\u001b[1;32m    144\u001b[0m     \u001b[0;32mexcept\u001b[0m \u001b[0mTypeError\u001b[0m\u001b[0;34m:\u001b[0m\u001b[0;34m\u001b[0m\u001b[0;34m\u001b[0m\u001b[0m\n\u001b[1;32m    145\u001b[0m         \u001b[0;32mif\u001b[0m \u001b[0mis_cmp\u001b[0m\u001b[0;34m:\u001b[0m\u001b[0;34m\u001b[0m\u001b[0;34m\u001b[0m\u001b[0m\n",
            "\u001b[0;32m/usr/local/lib/python3.6/dist-packages/pandas/core/computation/expressions.py\u001b[0m in \u001b[0;36mevaluate\u001b[0;34m(op, a, b, use_numexpr)\u001b[0m\n\u001b[1;32m    231\u001b[0m         \u001b[0muse_numexpr\u001b[0m \u001b[0;34m=\u001b[0m \u001b[0muse_numexpr\u001b[0m \u001b[0;32mand\u001b[0m \u001b[0m_bool_arith_check\u001b[0m\u001b[0;34m(\u001b[0m\u001b[0mop_str\u001b[0m\u001b[0;34m,\u001b[0m \u001b[0ma\u001b[0m\u001b[0;34m,\u001b[0m \u001b[0mb\u001b[0m\u001b[0;34m)\u001b[0m\u001b[0;34m\u001b[0m\u001b[0;34m\u001b[0m\u001b[0m\n\u001b[1;32m    232\u001b[0m         \u001b[0;32mif\u001b[0m \u001b[0muse_numexpr\u001b[0m\u001b[0;34m:\u001b[0m\u001b[0;34m\u001b[0m\u001b[0;34m\u001b[0m\u001b[0m\n\u001b[0;32m--> 233\u001b[0;31m             \u001b[0;32mreturn\u001b[0m \u001b[0m_evaluate\u001b[0m\u001b[0;34m(\u001b[0m\u001b[0mop\u001b[0m\u001b[0;34m,\u001b[0m \u001b[0mop_str\u001b[0m\u001b[0;34m,\u001b[0m \u001b[0ma\u001b[0m\u001b[0;34m,\u001b[0m \u001b[0mb\u001b[0m\u001b[0;34m)\u001b[0m  \u001b[0;31m# type: ignore\u001b[0m\u001b[0;34m\u001b[0m\u001b[0;34m\u001b[0m\u001b[0m\n\u001b[0m\u001b[1;32m    234\u001b[0m     \u001b[0;32mreturn\u001b[0m \u001b[0m_evaluate_standard\u001b[0m\u001b[0;34m(\u001b[0m\u001b[0mop\u001b[0m\u001b[0;34m,\u001b[0m \u001b[0mop_str\u001b[0m\u001b[0;34m,\u001b[0m \u001b[0ma\u001b[0m\u001b[0;34m,\u001b[0m \u001b[0mb\u001b[0m\u001b[0;34m)\u001b[0m\u001b[0;34m\u001b[0m\u001b[0;34m\u001b[0m\u001b[0m\n\u001b[1;32m    235\u001b[0m \u001b[0;34m\u001b[0m\u001b[0m\n",
            "\u001b[0;32m/usr/local/lib/python3.6/dist-packages/pandas/core/computation/expressions.py\u001b[0m in \u001b[0;36m_evaluate_numexpr\u001b[0;34m(op, op_str, a, b)\u001b[0m\n\u001b[1;32m    110\u001b[0m             \u001b[0;34mf\"a_value {op_str} b_value\"\u001b[0m\u001b[0;34m,\u001b[0m\u001b[0;34m\u001b[0m\u001b[0;34m\u001b[0m\u001b[0m\n\u001b[1;32m    111\u001b[0m             \u001b[0mlocal_dict\u001b[0m\u001b[0;34m=\u001b[0m\u001b[0;34m{\u001b[0m\u001b[0;34m\"a_value\"\u001b[0m\u001b[0;34m:\u001b[0m \u001b[0ma_value\u001b[0m\u001b[0;34m,\u001b[0m \u001b[0;34m\"b_value\"\u001b[0m\u001b[0;34m:\u001b[0m \u001b[0mb_value\u001b[0m\u001b[0;34m}\u001b[0m\u001b[0;34m,\u001b[0m\u001b[0;34m\u001b[0m\u001b[0;34m\u001b[0m\u001b[0m\n\u001b[0;32m--> 112\u001b[0;31m             \u001b[0mcasting\u001b[0m\u001b[0;34m=\u001b[0m\u001b[0;34m\"safe\"\u001b[0m\u001b[0;34m,\u001b[0m\u001b[0;34m\u001b[0m\u001b[0;34m\u001b[0m\u001b[0m\n\u001b[0m\u001b[1;32m    113\u001b[0m         )\n\u001b[1;32m    114\u001b[0m \u001b[0;34m\u001b[0m\u001b[0m\n",
            "\u001b[0;32m/usr/local/lib/python3.6/dist-packages/numexpr/necompiler.py\u001b[0m in \u001b[0;36mevaluate\u001b[0;34m(ex, local_dict, global_dict, out, order, casting, **kwargs)\u001b[0m\n\u001b[1;32m    822\u001b[0m     \u001b[0;31m# Create a signature\u001b[0m\u001b[0;34m\u001b[0m\u001b[0;34m\u001b[0m\u001b[0;34m\u001b[0m\u001b[0m\n\u001b[1;32m    823\u001b[0m     signature = [(name, getType(arg)) for (name, arg) in\n\u001b[0;32m--> 824\u001b[0;31m                  zip(names, arguments)]\n\u001b[0m\u001b[1;32m    825\u001b[0m \u001b[0;34m\u001b[0m\u001b[0m\n\u001b[1;32m    826\u001b[0m     \u001b[0;31m# Look up numexpr if possible.\u001b[0m\u001b[0;34m\u001b[0m\u001b[0;34m\u001b[0m\u001b[0;34m\u001b[0m\u001b[0m\n",
            "\u001b[0;32m/usr/local/lib/python3.6/dist-packages/numexpr/necompiler.py\u001b[0m in \u001b[0;36m<listcomp>\u001b[0;34m(.0)\u001b[0m\n\u001b[1;32m    821\u001b[0m \u001b[0;34m\u001b[0m\u001b[0m\n\u001b[1;32m    822\u001b[0m     \u001b[0;31m# Create a signature\u001b[0m\u001b[0;34m\u001b[0m\u001b[0;34m\u001b[0m\u001b[0;34m\u001b[0m\u001b[0m\n\u001b[0;32m--> 823\u001b[0;31m     signature = [(name, getType(arg)) for (name, arg) in\n\u001b[0m\u001b[1;32m    824\u001b[0m                  zip(names, arguments)]\n\u001b[1;32m    825\u001b[0m \u001b[0;34m\u001b[0m\u001b[0m\n",
            "\u001b[0;32m/usr/local/lib/python3.6/dist-packages/numexpr/necompiler.py\u001b[0m in \u001b[0;36mgetType\u001b[0;34m(a)\u001b[0m\n\u001b[1;32m    702\u001b[0m         \u001b[0;32mreturn\u001b[0m \u001b[0mbytes\u001b[0m\u001b[0;34m\u001b[0m\u001b[0;34m\u001b[0m\u001b[0m\n\u001b[1;32m    703\u001b[0m     \u001b[0;32mif\u001b[0m \u001b[0mkind\u001b[0m \u001b[0;34m==\u001b[0m \u001b[0;34m'U'\u001b[0m\u001b[0;34m:\u001b[0m\u001b[0;34m\u001b[0m\u001b[0;34m\u001b[0m\u001b[0m\n\u001b[0;32m--> 704\u001b[0;31m         \u001b[0;32mraise\u001b[0m \u001b[0mValueError\u001b[0m\u001b[0;34m(\u001b[0m\u001b[0;34m'NumExpr 2 does not support Unicode as a dtype.'\u001b[0m\u001b[0;34m)\u001b[0m\u001b[0;34m\u001b[0m\u001b[0;34m\u001b[0m\u001b[0m\n\u001b[0m\u001b[1;32m    705\u001b[0m     \u001b[0;32mraise\u001b[0m \u001b[0mValueError\u001b[0m\u001b[0;34m(\u001b[0m\u001b[0;34m\"unknown type %s\"\u001b[0m \u001b[0;34m%\u001b[0m \u001b[0ma\u001b[0m\u001b[0;34m.\u001b[0m\u001b[0mdtype\u001b[0m\u001b[0;34m.\u001b[0m\u001b[0mname\u001b[0m\u001b[0;34m)\u001b[0m\u001b[0;34m\u001b[0m\u001b[0;34m\u001b[0m\u001b[0m\n\u001b[1;32m    706\u001b[0m \u001b[0;34m\u001b[0m\u001b[0m\n",
            "\u001b[0;31mValueError\u001b[0m: NumExpr 2 does not support Unicode as a dtype."
          ]
        }
      ],
      "source": [
        "#New Import Method for NSRDB data\n",
        "folder = '/content/drive/MyDrive/KT data/NREL NSRDB Data' \n",
        "\n",
        "all_files = glob.glob(os.path.join(folder, '*.csv'))\n",
        "\n",
        "li = {}\n",
        "\n",
        "print(all_files)\n",
        "\n",
        "for filename in all_files:\n",
        "  \n",
        "  #extracting relevant information from first 2 lines of original file\n",
        "  paraminfo = pd.read_csv(filename, header=0,index_col=0, parse_dates=True)\n",
        "  df = pd.read_csv(filename, header=2)\n",
        "  #add in positional information to dataframe\n",
        "  df.elevation = paraminfo['Elevation'][0]\n",
        "  df.latitude = paraminfo['Latitude'][0]\n",
        "  df.longitude = paraminfo['Longitude'][0]\n",
        "  df['date'] = str(df['Year'] + '-' + df['Month'] + '-' + df['Day'] + \" \" + df['Hour'] + \":\" + df['Minute'])\n",
        "  print(df)"
      ]
    },
    {
      "cell_type": "markdown",
      "metadata": {
        "id": "cAoCJOFXKka2"
      },
      "source": [
        "After getting the metadata, rereading the files into a dataframe with the appropriate headers."
      ]
    },
    {
      "cell_type": "code",
      "execution_count": null,
      "metadata": {
        "id": "0Mxledy7Lkpo",
        "vscode": {
          "languageId": "python"
        }
      },
      "outputs": [],
      "source": [
        "#time-based indices\n",
        "def t_alt(short):\n",
        "  if short == 'H':\n",
        "    return 'Hourly'\n",
        "  elif short == 'D':\n",
        "    return 'Daily'\n",
        "  elif short == 'W':\n",
        "    return 'Weekly'\n",
        "  elif short == 'M':\n",
        "    return 'Monthly'\n",
        "  elif short == 'Q':\n",
        "    return 'Quarterly'\n",
        "  elif short == 'Y':\n",
        "    return 'Annual'\n",
        "  else:\n",
        "    return ''"
      ]
    },
    {
      "cell_type": "markdown",
      "metadata": {
        "id": "KWX9B-JRLolb"
      },
      "source": [
        "Now lets simulate the extra-atmospheric irradiance for the timeseries that we have observation data for in the location of the observations. We start to use pvlib functions location.Location and solpos.\n",
        "\n",
        "etr is the extraterrestrial solar radiation - but it is not corrected to the horizontal plane (etr_hor) at a particular latitude and longitude. To do this correction we need to know the zenith angle (zen) (which is contained within the solpos method)."
      ]
    },
    {
      "cell_type": "code",
      "execution_count": null,
      "metadata": {
        "id": "5wMMWVqpMivl",
        "vscode": {
          "languageId": "python"
        }
      },
      "outputs": [],
      "source": [
        "#looping data over time periods\n",
        "def get_KT_Charts(dataset, interval): \n",
        "  #setting up info\n",
        "  latitude = dataset.latitude\n",
        "  longitude = dataset.longitude\n",
        "  suptl = dataset.title\n",
        "  dataset = dataset.tz_localize('UTC')\n",
        "  temperature = dataset['temperature'].mean()\n",
        "  start = dataset.index[0]\n",
        "  end = dataset.index[-1]\n",
        "\n",
        "  #using available information to get solar position\n",
        "  times = pd.date_range(start = start, end = end, tz = tz, freq = 'H')\n",
        "  loc = pvlib.location.Location(latitude = latitude, longitude = longitude, altitude=altitude)\n",
        "  solpos = loc.get_solarposition(times, temperature)\n",
        "  #calculating irradiance from solar position, including horizontal component by taking cos(zenith angle) of irradiance data\n",
        "  etr = pvlib.irradiance.get_extra_radiation(times)\n",
        "  zen = solpos[\"apparent_zenith\"]\n",
        "  etr_hor = np.cos(np.radians(zen)) * etr\n",
        "  #setting negative values (nighttime 'irradiance') to 0\n",
        "  etr_hor[etr_hor < 0] = 0\n",
        "  #taking means over time interval\n",
        "  etr_h_hor = etr_hor.resample(interval, label=\"left\").mean()\n",
        "  irr = dataset.radiation_surface.resample(interval, label = 'left').mean()\n",
        "  #define KT, removing out of range samples (and 0 so nighttime doesn't overwhelm histogram)\n",
        "  kt = irr / etr_h_hor\n",
        "  kt[kt > 1.3] = np.nan\n",
        "  kt[kt == 0] = np.nan\n",
        "  #relabel for graphs\n",
        "  t_int = t_alt(interval)\n",
        "  if startyr == endyr:\n",
        "    years = str(startyr)\n",
        "  elif startyr < endyr:\n",
        "    years = str(startyr) + '-' + str(endyr)\n",
        "  else:\n",
        "    years = str(startyr) +'?' + str(endyr)\n",
        "  grid = plt.GridSpec(2, 2, wspace=0.4, hspace=0.4)\n",
        "  plt.subplot(grid[0,:2])\n",
        "  irr.plot(ylabel='Golbal Horizontal Irradiance (W/m^2)', xlabel='Date/Time', figsize = (10, 10))\n",
        "  etr_h_hor.plot(ylabel='ET Horizontal Irradiance (W/m^2)', xlabel='Date/Time')\n",
        "  \n",
        "  plt.subplot(grid[1, 0])\n",
        "  kt.plot(ylabel='KT Index', xlabel='Date/Time', ylim = (0, 1.4))\n",
        "  \n",
        "  plt.subplot(grid[1,1])\n",
        "  plt.hist(kt[kt.notnull()], bins=130, range=(0,1.3))\n",
        "  plt.xlabel('KT Index')\n",
        "  plt.ylabel('Number of occurences')\n",
        "  \n",
        "  plt.suptitle(suptl + ' ' + t_int)\n",
        "  plt.show()\n",
        "\n",
        "#call up charts for each time interval based on city\n",
        "def KT_loc(data):\n",
        "  t_index = ['H', 'D', 'W', 'M', 'Q']\n",
        "  for j in range(5):\n",
        "    get_KT_Charts(data, t_index[j])\n",
        "\n"
      ]
    },
    {
      "cell_type": "code",
      "execution_count": null,
      "metadata": {
        "id": "C7DnqhG5ZtVr",
        "vscode": {
          "languageId": "python"
        }
      },
      "outputs": [],
      "source": [
        "def KT_chart(dataset, interval): \n",
        "  #setting up info\n",
        "  latitude = dataset.latitude\n",
        "  longitude = dataset.longitude\n",
        "  suptl = dataset.title\n",
        "  dataset = dataset.tz_localize('UTC')\n",
        "  temperature = dataset['temperature'].mean()\n",
        "  start = dataset.index[0]\n",
        "  end = dataset.index[-1]\n",
        "\n",
        "  #using available information to get solar position\n",
        "  times = pd.date_range(start = start, end = end, tz = tz, freq = 'H')\n",
        "  loc = pvlib.location.Location(latitude = latitude, longitude = longitude, altitude=altitude)\n",
        "  solpos = loc.get_solarposition(times, temperature)\n",
        "  #calculating irradiance from solar position, including horizontal component by taking cos(zenith angle) of irradiance data\n",
        "  etr = pvlib.irradiance.get_extra_radiation(times)\n",
        "  zen = solpos[\"apparent_zenith\"]\n",
        "  etr_hor = np.cos(np.radians(zen)) * etr\n",
        "  #setting negative values (nighttime 'irradiance') to 0\n",
        "  etr_hor[etr_hor < 0] = 0\n",
        "  #taking means over time interval\n",
        "  etr_h_hor = etr_hor.resample(interval, label=\"left\").mean()\n",
        "  irr = dataset.radiation_surface.resample(interval, label = 'left').mean()\n",
        "  #define KT, removing out of range samples (and 0 so nighttime doesn't overwhelm histogram)\n",
        "  kt = irr / etr_h_hor\n",
        "  kt[kt > 1.3] = np.nan\n",
        "  kt[kt == 0] = np.nan\n",
        "  #relabel for graphs\n",
        "  t_int = t_alt(interval)\n",
        "  if startyr == endyr:\n",
        "    years = str(startyr)\n",
        "  elif startyr < endyr:\n",
        "    years = str(startyr) + '-' + str(endyr)\n",
        "  else:\n",
        "    years = str(startyr) +'?' + str(endyr)\n",
        "  kt.plot(ylabel='KT Index', xlabel='Date/Time', ylim = (0, 1.4))"
      ]
    },
    {
      "cell_type": "code",
      "execution_count": null,
      "metadata": {
        "colab": {
          "base_uri": "https://localhost:8080/",
          "height": 784
        },
        "id": "WbKHBjMH5zmc",
        "outputId": "17ba1efd-045e-4c06-8d02-f042e8d2c490",
        "vscode": {
          "languageId": "python"
        }
      },
      "outputs": [
        {
          "name": "stdout",
          "output_type": "stream",
          "text": [
            "Sheffield 2019\n",
            "Boston 2019\n",
            "Boston 2017\n",
            "Boston 2018\n",
            "Boston 2016\n",
            "Boston 2015\n",
            "34.354,-119.05 2017\n",
            "34.354,-119.05 2018\n",
            "34.324,-119.15 2016\n",
            "المدينة المنورة 2015\n",
            "Canberra 2019\n",
            "Boston 2000\n",
            "Boston 2001\n",
            "Boston 2003\n",
            "Boston 2002\n",
            "Boston 2004\n",
            "Boston 2005\n",
            "Boston 2006\n",
            "Boston 2007\n",
            "Boston 2008\n",
            "Boston 2009\n",
            "Boston 2010\n",
            "Boston 2011\n",
            "Boston 2012\n",
            "Boston 2013\n",
            "Boston 2014\n"
          ]
        },
        {
          "data": {
            "text/plain": [
              "-71.058"
            ]
          },
          "execution_count": 40,
          "metadata": {
            "tags": []
          },
          "output_type": "execute_result"
        },
        {
          "data": {
            "image/png": "[encoded data removed]",
            "text/plain": [
              "<Figure size 432x288 with 1 Axes>"
            ]
          },
          "metadata": {
            "needs_background": "light",
            "tags": []
          },
          "output_type": "display_data"
        }
      ],
      "source": [
        "for i in range(len(names)):\n",
        "  latitude = lat_data[i]\n",
        "  longitude = long_data[i]\n",
        "  suptl = names[i]\n",
        "  KT_loc(li[names[i]])\n",
        "\n",
        "for i in li:\n",
        "  if i.split(\" \", 1)[0] == 'Boston':\n",
        "    KT_chart(li[i], 'M')\n",
        "  print(i)\n",
        "\n",
        "li['Boston 2000'].longitude"
      ]
    },
    {
      "cell_type": "markdown",
      "metadata": {
        "id": "AYc4Glfml6tu"
      },
      "source": [
        "Putting together all data sets for the same position across years. "
      ]
    },
    {
      "cell_type": "code",
      "execution_count": null,
      "metadata": {
        "colab": {
          "base_uri": "https://localhost:8080/",
          "height": 341
        },
        "id": "HAeYK1kMVArr",
        "outputId": "766ff1e4-b1d8-44a8-9ad2-71abd14c3fd1",
        "vscode": {
          "languageId": "python"
        }
      },
      "outputs": [
        {
          "ename": "NameError",
          "evalue": "ignored",
          "output_type": "error",
          "traceback": [
            "\u001b[0;31m---------------------------------------------------------------------------\u001b[0m",
            "\u001b[0;31mNameError\u001b[0m                                 Traceback (most recent call last)",
            "\u001b[0;32m<ipython-input-3-36b5b40ee09c>\u001b[0m in \u001b[0;36m<module>\u001b[0;34m()\u001b[0m\n\u001b[1;32m     10\u001b[0m   \u001b[0;32mreturn\u001b[0m \u001b[0mdf\u001b[0m\u001b[0;34m\u001b[0m\u001b[0;34m\u001b[0m\u001b[0m\n\u001b[1;32m     11\u001b[0m \u001b[0;34m\u001b[0m\u001b[0m\n\u001b[0;32m---> 12\u001b[0;31m \u001b[0mmerge_years\u001b[0m\u001b[0;34m(\u001b[0m\u001b[0;36m42.36\u001b[0m\u001b[0;34m,\u001b[0m \u001b[0;34m-\u001b[0m\u001b[0;36m71.058\u001b[0m\u001b[0;34m)\u001b[0m\u001b[0;34m\u001b[0m\u001b[0;34m\u001b[0m\u001b[0m\n\u001b[0m",
            "\u001b[0;32m<ipython-input-3-36b5b40ee09c>\u001b[0m in \u001b[0;36mmerge_years\u001b[0;34m(lat, long)\u001b[0m\n\u001b[1;32m      1\u001b[0m \u001b[0;32mdef\u001b[0m \u001b[0mmerge_years\u001b[0m\u001b[0;34m(\u001b[0m\u001b[0mlat\u001b[0m\u001b[0;34m,\u001b[0m \u001b[0mlong\u001b[0m\u001b[0;34m)\u001b[0m\u001b[0;34m:\u001b[0m\u001b[0;34m\u001b[0m\u001b[0;34m\u001b[0m\u001b[0m\n\u001b[1;32m      2\u001b[0m   \u001b[0mdf\u001b[0m \u001b[0;34m=\u001b[0m \u001b[0mpd\u001b[0m\u001b[0;34m.\u001b[0m\u001b[0mDataFrame\u001b[0m\u001b[0;34m(\u001b[0m\u001b[0;34m)\u001b[0m\u001b[0;34m\u001b[0m\u001b[0;34m\u001b[0m\u001b[0m\n\u001b[0;32m----> 3\u001b[0;31m   \u001b[0;32mfor\u001b[0m \u001b[0mi\u001b[0m \u001b[0;32min\u001b[0m \u001b[0mli\u001b[0m\u001b[0;34m:\u001b[0m\u001b[0;34m\u001b[0m\u001b[0;34m\u001b[0m\u001b[0m\n\u001b[0m\u001b[1;32m      4\u001b[0m     \u001b[0;32mif\u001b[0m \u001b[0mlat\u001b[0m \u001b[0;34m==\u001b[0m \u001b[0mli\u001b[0m\u001b[0;34m[\u001b[0m\u001b[0mi\u001b[0m\u001b[0;34m]\u001b[0m\u001b[0;34m.\u001b[0m\u001b[0mlatitude\u001b[0m \u001b[0;32mand\u001b[0m \u001b[0mlong\u001b[0m \u001b[0;34m==\u001b[0m \u001b[0mli\u001b[0m\u001b[0;34m[\u001b[0m\u001b[0mi\u001b[0m\u001b[0;34m]\u001b[0m\u001b[0;34m.\u001b[0m\u001b[0mlongitude\u001b[0m\u001b[0;34m:\u001b[0m\u001b[0;34m\u001b[0m\u001b[0;34m\u001b[0m\u001b[0m\n\u001b[1;32m      5\u001b[0m       \u001b[0mdf\u001b[0m \u001b[0;34m=\u001b[0m \u001b[0mpd\u001b[0m\u001b[0;34m.\u001b[0m\u001b[0mconcat\u001b[0m\u001b[0;34m(\u001b[0m\u001b[0;34m[\u001b[0m\u001b[0mdf\u001b[0m\u001b[0;34m,\u001b[0m \u001b[0mli\u001b[0m\u001b[0;34m[\u001b[0m\u001b[0mi\u001b[0m\u001b[0;34m]\u001b[0m\u001b[0;34m]\u001b[0m\u001b[0;34m)\u001b[0m\u001b[0;34m\u001b[0m\u001b[0;34m\u001b[0m\u001b[0m\n",
            "\u001b[0;31mNameError\u001b[0m: name 'li' is not defined"
          ]
        }
      ],
      "source": [
        "def merge_years(lat, long):\n",
        "  df = pd.DataFrame()\n",
        "  for i in li:\n",
        "    if lat == li[i].latitude and long == li[i].longitude:\n",
        "      df = pd.concat([df, li[i]])\n",
        "      df.title = li[i].title\n",
        "      df.latitude = lat\n",
        "      df.longitude = long\n",
        "  df = df.sort_values(by='time')\n",
        "\n",
        "  return df\n",
        "\n",
        "merge_years(42.36, -71.058)"
      ]
    },
    {
      "cell_type": "markdown",
      "metadata": {
        "id": "U7Ze-Ns0xCRV"
      },
      "source": [
        "Now trying to chart KT info:\n"
      ]
    },
    {
      "cell_type": "code",
      "execution_count": null,
      "metadata": {
        "colab": {
          "base_uri": "https://localhost:8080/",
          "height": 298
        },
        "id": "ZofrJ3qcxGPo",
        "outputId": "b3dbbaba-261e-41a4-fd0c-658733368cb6",
        "vscode": {
          "languageId": "python"
        }
      },
      "outputs": [
        {
          "data": {
            "text/plain": [
              "<matplotlib.axes._subplots.AxesSubplot at 0x7f548d4dbb70>"
            ]
          },
          "execution_count": 42,
          "metadata": {
            "tags": []
          },
          "output_type": "execute_result"
        },
        {
          "data": {
            "image/png": "[encoded data removed]",
            "text/plain": [
              "<Figure size 432x288 with 1 Axes>"
            ]
          },
          "metadata": {
            "needs_background": "light",
            "tags": []
          },
          "output_type": "display_data"
        }
      ],
      "source": [
        "def KT_data(lat, long, interval): \n",
        "  #setting up info\n",
        "  latitude = lat\n",
        "  longitude = long\n",
        "  dataset = merge_years(latitude, longitude)\n",
        "  dataset = dataset.tz_localize('UTC')\n",
        "  temperature = dataset['temperature'].mean()\n",
        "  start = dataset.index[0]\n",
        "  end = dataset.index[-1]\n",
        "\n",
        "  #using available information to get solar position\n",
        "  times = pd.date_range(start = start, end = end, tz = tz, freq = 'H')\n",
        "  loc = pvlib.location.Location(latitude = latitude, longitude = longitude, altitude=altitude)\n",
        "  solpos = loc.get_solarposition(times, temperature)\n",
        "  #calculating irradiance from solar position, including horizontal component by taking cos(zenith angle) of irradiance data\n",
        "  etr = pvlib.irradiance.get_extra_radiation(times)\n",
        "  zen = solpos[\"apparent_zenith\"]\n",
        "  etr_hor = np.cos(np.radians(zen)) * etr\n",
        "  #setting negative values (nighttime 'irradiance') to 0\n",
        "  etr_hor[etr_hor < 0] = 0\n",
        "  #taking means over time interval\n",
        "  etr_h_hor = etr_hor.resample(interval, label=\"left\").mean()\n",
        "  irr = dataset.radiation_surface.resample(interval, label = 'left').mean()\n",
        "  #define KT, removing out of range samples (and 0 so nighttime doesn't overwhelm histogram)\n",
        "  kt = irr / etr_h_hor\n",
        "  kt[kt > 1.3] = np.nan\n",
        "  kt[kt == 0] = np.nan\n",
        "  #relabel for graphs\n",
        "  kt.interval = t_alt(interval)\n",
        "  if startyr == endyr:\n",
        "    years = str(startyr)\n",
        "  elif startyr < endyr:\n",
        "    years = str(startyr) + '-' + str(endyr)\n",
        "  else:\n",
        "    years = str(startyr) +'?' + str(endyr)\n",
        "  kt.years = years\n",
        "  kt.lat = lat\n",
        "  kt.long = long\n",
        "  df = pd.DataFrame({'kt': kt, 'Time':kt.index})\n",
        "  return df\n",
        "\n",
        "boston = KT_data(42.36, -71.058, 'Y')\n",
        "boston.plot.scatter(x='Time', y='kt')"
      ]
    },
    {
      "cell_type": "code",
      "execution_count": null,
      "metadata": {
        "colab": {
          "base_uri": "https://localhost:8080/"
        },
        "id": "IC6b30soi_07",
        "outputId": "5f376872-5a45-4206-e519-3e47fa8d9a2a",
        "vscode": {
          "languageId": "python"
        }
      },
      "outputs": [
        {
          "data": {
            "text/plain": [
              "pandas.core.series.Series"
            ]
          },
          "execution_count": 23,
          "metadata": {
            "tags": []
          },
          "output_type": "execute_result"
        }
      ],
      "source": [
        "type(boston['Time'])"
      ]
    },
    {
      "cell_type": "code",
      "execution_count": null,
      "metadata": {
        "colab": {
          "base_uri": "https://localhost:8080/"
        },
        "id": "rZZgoIxpeSlb",
        "outputId": "5632a592-3f5a-4016-ef24-f1a91a13f792",
        "vscode": {
          "languageId": "python"
        }
      },
      "outputs": [
        {
          "name": "stdout",
          "output_type": "stream",
          "text": [
            "-71.058\n"
          ]
        }
      ],
      "source": [
        "def doo(data):\n",
        "  print(data.longitude)\n",
        "doo(li['Boston 2019'])"
      ]
    },
    {
      "cell_type": "markdown",
      "metadata": {
        "id": "mxKXQ4cpRnNe"
      },
      "source": [
        "\n",
        "In and near Santa Paula, CA, in late 2017 into early 2018, there was a major forest fire (the Thomas Fire). In an attempt to see if such events were visible in the KT index, I printed out the data. Any effect is clearly not distinguishable from other noise in the KT data (e.g. cloud cover) An alternate explanation is that satellite data may not correctly reflect the global irradiance."
      ]
    },
    {
      "cell_type": "code",
      "execution_count": null,
      "metadata": {
        "id": "onbD0hpdPKWt",
        "vscode": {
          "languageId": "python"
        }
      },
      "outputs": [],
      "source": [
        "df.to_csv('boston_hourly.csv')\n",
        "!cp 'boston_hourly.csv' \"drive/My Drive/colab_output/\""
      ]
    },
    {
      "cell_type": "code",
      "execution_count": null,
      "metadata": {
        "id": "9oW8Hgi7Stsh",
        "vscode": {
          "languageId": "python"
        }
      },
      "outputs": [],
      "source": [
        "def KT_Comparison(dataset, interval): \n",
        "  #setting up info\n",
        "  latitude = dataset.latitude\n",
        "  longitude = dataset.longitude\n",
        "  suptl = dataset.title\n",
        "  dataset = dataset.tz_localize('UTC')\n",
        "  temperature = dataset['temperature'].mean()\n",
        "  start = dataset.index[0]\n",
        "  end = dataset.index[-1]\n",
        "\n",
        "  #using available information to get solar position\n",
        "  times = pd.date_range(start = start, end = end, tz = tz, freq = 'H')\n",
        "  loc = pvlib.location.Location(latitude = latitude, longitude = longitude, altitude=altitude)\n",
        "  solpos = loc.get_solarposition(times, temperature)\n",
        "  #calculating irradiance from solar position, including horizontal component by taking cos(zenith angle) of irradiance data\n",
        "  etr = pvlib.irradiance.get_extra_radiation(times)\n",
        "  zen = solpos[\"apparent_zenith\"]\n",
        "  etr_hor = np.cos(np.radians(zen)) * etr\n",
        "  #setting negative values (nighttime 'irradiance') to 0\n",
        "  etr_hor[etr_hor < 0] = 0\n",
        "  #taking means over time interval\n",
        "  etr_h_hor = etr_hor.resample(interval, label=\"left\").mean()\n",
        "  irr = dataset.radiation_surface.resample(interval, label = 'left').mean()\n",
        "  #define KT, removing out of range samples (and 0 so nighttime doesn't overwhelm histogram)\n",
        "  kt = irr / etr_h_hor\n",
        "  kt[kt > 1.3] = np.nan\n",
        "  kt[kt == 0] = np.nan\n",
        "  #relabel for graphs\n",
        "  t_int = t_alt(interval)\n",
        "  if startyr == endyr:\n",
        "    years = str(startyr)\n",
        "  elif startyr < endyr:\n",
        "    years = str(startyr) + '-' + str(endyr)\n",
        "  else:\n",
        "    years = str(startyr) +'?' + str(endyr)\n",
        " \n",
        "  \n",
        "  plt.subplot()\n",
        "  kt.plot(ylabel='KT Index', xlabel='Date/Time', ylim = (0, 1.4))\n",
        " \n",
        "  plt.legend(title = 'Year')\n",
        "  \n",
        "  plt.suptitle(suptl + ' ' + t_int)\n",
        "  plt.show()\n"
      ]
    }
  ],
  "metadata": {
    "colab": {
      "collapsed_sections": [],
      "include_colab_link": true,
      "name": "A2 - KT_analysis - Farbowitz.ipynb",
      "provenance": [],
      "toc_visible": true
    },
    "kernelspec": {
      "display_name": "Python 3",
      "name": "python3"
    }
  },
  "nbformat": 4,
  "nbformat_minor": 0
}
